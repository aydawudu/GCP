{
  "cells": [
    {
      "cell_type": "markdown",
      "metadata": {
        "id": "view-in-github",
        "colab_type": "text"
      },
      "source": [
        "<a href=\"https://colab.research.google.com/github/aydawudu/GCP/blob/main/python_BQ_explore_data.ipynb\" target=\"_parent\"><img src=\"https://colab.research.google.com/assets/colab-badge.svg\" alt=\"Open In Colab\"/></a>"
      ]
    },
    {
      "cell_type": "markdown",
      "metadata": {
        "id": "DGPlYumZnO1t"
      },
      "source": [
        "# Exploratory Data Analysis Using Python and BigQuery\n",
        "\n",
        "\n",
        "\n",
        "## Learning Objectives\n",
        "\n",
        "1. Analyze a Pandas Dataframe\n",
        "2. Create Seaborn plots for Exploratory Data Analysis in Python \n",
        "3. Write a SQL query to pick up specific fields from a BigQuery dataset\n",
        "4. Exploratory Analysis in BigQuery\n",
        "\n",
        "\n",
        "## Introduction \n",
        "This lab is an introduction to linear regression using Python and Scikit-Learn.  This lab serves as a foundation for more complex algorithms and machine learning models that you will encounter in the course. We will train a linear regression model to predict housing price.\n",
        "\n",
        "Each learning objective will correspond to a __#TODO__ in this student lab notebook -- try to complete this notebook first and then review the [solution notebook](../solutions/python.BQ_explore_data.ipynb). \n"
      ]
    },
    {
      "cell_type": "markdown",
      "metadata": {
        "id": "AsHg6SD2nO1v"
      },
      "source": [
        "### Import Libraries"
      ]
    },
    {
      "cell_type": "code",
      "execution_count": 1,
      "metadata": {
        "colab": {
          "base_uri": "https://localhost:8080/"
        },
        "id": "2uVrVO-wHNGS",
        "outputId": "9577da42-3a61-4e42-d397-07d98f582917"
      },
      "outputs": [
        {
          "output_type": "stream",
          "name": "stdout",
          "text": [
            "chown: invalid user: ‘jupyter:jupyter’\n"
          ]
        }
      ],
      "source": [
        "!sudo chown -R jupyter:jupyter /home/jupyter/training-data-analyst"
      ]
    },
    {
      "cell_type": "code",
      "execution_count": 2,
      "metadata": {
        "colab": {
          "base_uri": "https://localhost:8080/"
        },
        "id": "lajve6-3HNGT",
        "outputId": "216f2f3b-ef68-4000-f7fa-1e88fcda243b"
      },
      "outputs": [
        {
          "output_type": "stream",
          "name": "stdout",
          "text": [
            "Looking in indexes: https://pypi.org/simple, https://us-python.pkg.dev/colab-wheels/public/simple/\n",
            "Requirement already satisfied: google-cloud-bigquery==1.25.0 in /root/.local/lib/python3.7/site-packages (1.25.0)\n",
            "Requirement already satisfied: google-resumable-media<0.6dev,>=0.5.0 in /root/.local/lib/python3.7/site-packages (from google-cloud-bigquery==1.25.0) (0.5.1)\n",
            "Requirement already satisfied: google-auth<2.0dev,>=1.9.0 in /usr/local/lib/python3.7/dist-packages (from google-cloud-bigquery==1.25.0) (1.35.0)\n",
            "Requirement already satisfied: google-cloud-core<2.0dev,>=1.1.0 in /root/.local/lib/python3.7/site-packages (from google-cloud-bigquery==1.25.0) (1.7.3)\n",
            "Requirement already satisfied: protobuf>=3.6.0 in /usr/local/lib/python3.7/dist-packages (from google-cloud-bigquery==1.25.0) (3.17.3)\n",
            "Requirement already satisfied: six<2.0.0dev,>=1.13.0 in /usr/local/lib/python3.7/dist-packages (from google-cloud-bigquery==1.25.0) (1.15.0)\n",
            "Requirement already satisfied: google-api-core<2.0dev,>=1.15.0 in /usr/local/lib/python3.7/dist-packages (from google-cloud-bigquery==1.25.0) (1.31.6)\n",
            "Requirement already satisfied: pytz in /usr/local/lib/python3.7/dist-packages (from google-api-core<2.0dev,>=1.15.0->google-cloud-bigquery==1.25.0) (2022.2.1)\n",
            "Requirement already satisfied: requests<3.0.0dev,>=2.18.0 in /usr/local/lib/python3.7/dist-packages (from google-api-core<2.0dev,>=1.15.0->google-cloud-bigquery==1.25.0) (2.23.0)\n",
            "Requirement already satisfied: googleapis-common-protos<2.0dev,>=1.6.0 in /usr/local/lib/python3.7/dist-packages (from google-api-core<2.0dev,>=1.15.0->google-cloud-bigquery==1.25.0) (1.56.4)\n",
            "Requirement already satisfied: setuptools>=40.3.0 in /usr/local/lib/python3.7/dist-packages (from google-api-core<2.0dev,>=1.15.0->google-cloud-bigquery==1.25.0) (57.4.0)\n",
            "Requirement already satisfied: packaging>=14.3 in /usr/local/lib/python3.7/dist-packages (from google-api-core<2.0dev,>=1.15.0->google-cloud-bigquery==1.25.0) (21.3)\n",
            "Requirement already satisfied: pyasn1-modules>=0.2.1 in /usr/local/lib/python3.7/dist-packages (from google-auth<2.0dev,>=1.9.0->google-cloud-bigquery==1.25.0) (0.2.8)\n",
            "Requirement already satisfied: rsa<5,>=3.1.4 in /usr/local/lib/python3.7/dist-packages (from google-auth<2.0dev,>=1.9.0->google-cloud-bigquery==1.25.0) (4.9)\n",
            "Requirement already satisfied: cachetools<5.0,>=2.0.0 in /usr/local/lib/python3.7/dist-packages (from google-auth<2.0dev,>=1.9.0->google-cloud-bigquery==1.25.0) (4.2.4)\n",
            "Requirement already satisfied: pyparsing!=3.0.5,>=2.0.2 in /usr/local/lib/python3.7/dist-packages (from packaging>=14.3->google-api-core<2.0dev,>=1.15.0->google-cloud-bigquery==1.25.0) (3.0.9)\n",
            "Requirement already satisfied: pyasn1<0.5.0,>=0.4.6 in /usr/local/lib/python3.7/dist-packages (from pyasn1-modules>=0.2.1->google-auth<2.0dev,>=1.9.0->google-cloud-bigquery==1.25.0) (0.4.8)\n",
            "Requirement already satisfied: urllib3!=1.25.0,!=1.25.1,<1.26,>=1.21.1 in /usr/local/lib/python3.7/dist-packages (from requests<3.0.0dev,>=2.18.0->google-api-core<2.0dev,>=1.15.0->google-cloud-bigquery==1.25.0) (1.24.3)\n",
            "Requirement already satisfied: idna<3,>=2.5 in /usr/local/lib/python3.7/dist-packages (from requests<3.0.0dev,>=2.18.0->google-api-core<2.0dev,>=1.15.0->google-cloud-bigquery==1.25.0) (2.10)\n",
            "Requirement already satisfied: chardet<4,>=3.0.2 in /usr/local/lib/python3.7/dist-packages (from requests<3.0.0dev,>=2.18.0->google-api-core<2.0dev,>=1.15.0->google-cloud-bigquery==1.25.0) (3.0.4)\n",
            "Requirement already satisfied: certifi>=2017.4.17 in /usr/local/lib/python3.7/dist-packages (from requests<3.0.0dev,>=2.18.0->google-api-core<2.0dev,>=1.15.0->google-cloud-bigquery==1.25.0) (2022.6.15)\n"
          ]
        }
      ],
      "source": [
        "!pip install --user google-cloud-bigquery==1.25.0"
      ]
    },
    {
      "cell_type": "code",
      "source": [
        "from google.colab import drive\n",
        "drive.mount('/content/drive')"
      ],
      "metadata": {
        "colab": {
          "base_uri": "https://localhost:8080/"
        },
        "id": "LClMhB0aH8IL",
        "outputId": "71f665a6-f636-4971-84fa-264fdda144cb"
      },
      "execution_count": 3,
      "outputs": [
        {
          "output_type": "stream",
          "name": "stdout",
          "text": [
            "Mounted at /content/drive\n"
          ]
        }
      ]
    },
    {
      "cell_type": "markdown",
      "metadata": {
        "id": "Aopb_EcCHNGU"
      },
      "source": [
        "Please ignore any incompatibility warnings and errors.\n"
      ]
    },
    {
      "cell_type": "markdown",
      "metadata": {
        "id": "sXYG59JlHNGV"
      },
      "source": [
        "**Restart** the kernel before proceeding further (On the Notebook menu - Kernel - Restart Kernel).\n"
      ]
    },
    {
      "cell_type": "code",
      "execution_count": 4,
      "metadata": {
        "id": "gEXV-RxPnO1w"
      },
      "outputs": [],
      "source": [
        "import os \n",
        "import pandas as pd\n",
        "import numpy as np\n",
        "# delete me from sklearn.model_selection import train_test_split\n",
        "import matplotlib.pyplot as plt\n",
        "import seaborn as sns # Seaborn is a Python data visualization library based on matplotlib. \n",
        "%matplotlib inline   "
      ]
    },
    {
      "cell_type": "markdown",
      "metadata": {
        "id": "dr2TkzKRnO1z"
      },
      "source": [
        "###  Load the Dataset\n",
        "\n"
      ]
    },
    {
      "cell_type": "markdown",
      "metadata": {
        "id": "ghzte8xtHNGY"
      },
      "source": [
        "Here, we create a directory called usahousing.  This directory will hold the dataset that we copy from Google Cloud Storage."
      ]
    },
    {
      "cell_type": "code",
      "execution_count": 5,
      "metadata": {
        "id": "G50VHKSIHNGZ"
      },
      "outputs": [],
      "source": [
        "if not os.path.isdir(\"../data/explore\"):\n",
        "    os.makedirs(\"../data/explore\")"
      ]
    },
    {
      "cell_type": "markdown",
      "metadata": {
        "id": "Q34WXfmyHNGZ"
      },
      "source": [
        "Next, we copy the Usahousing dataset from Google Cloud Storage."
      ]
    },
    {
      "cell_type": "code",
      "execution_count": 6,
      "metadata": {
        "colab": {
          "base_uri": "https://localhost:8080/"
        },
        "id": "FiVPUr10HNGa",
        "outputId": "cf580229-0504-48f7-adb0-40f3f44e62bc"
      },
      "outputs": [
        {
          "output_type": "stream",
          "name": "stdout",
          "text": [
            "Copying gs://cloud-training/mlongcp/v3.0_MLonGC/toy_data/housing_pre-proc_toy.csv...\n",
            "/ [0 files][    0.0 B/138.8 KiB]                                                \r/ [1 files][138.8 KiB/138.8 KiB]                                                \r\n",
            "Operation completed over 1 objects/138.8 KiB.                                    \n"
          ]
        }
      ],
      "source": [
        "!gsutil cp gs://cloud-training/mlongcp/v3.0_MLonGC/toy_data/housing_pre-proc_toy.csv ../data/explore  "
      ]
    },
    {
      "cell_type": "markdown",
      "metadata": {
        "id": "FgiosE_ZHNGb"
      },
      "source": [
        "Then we use the \"ls\" command to list files in the directory.  This ensures that the dataset was copied."
      ]
    },
    {
      "cell_type": "code",
      "execution_count": 7,
      "metadata": {
        "colab": {
          "base_uri": "https://localhost:8080/"
        },
        "id": "dNxRaw9iHNGc",
        "outputId": "ebd46d11-2906-45ea-9436-ac30217c26a5"
      },
      "outputs": [
        {
          "output_type": "stream",
          "name": "stdout",
          "text": [
            "total 140\n",
            "-rw-r--r-- 1 root root 142150 Sep  6 18:46 housing_pre-proc_toy.csv\n"
          ]
        }
      ],
      "source": [
        "!ls -l ../data/explore"
      ]
    },
    {
      "cell_type": "markdown",
      "metadata": {
        "id": "rcdPDtInHNGc"
      },
      "source": [
        "Next, we read the dataset into a Pandas dataframe."
      ]
    },
    {
      "cell_type": "code",
      "execution_count": 10,
      "metadata": {
        "id": "CzrXJI8VnO10"
      },
      "outputs": [],
      "source": [
        "df_USAhousing = pd.read_csv(\"../data/explore/housing_pre-proc_toy.csv\")"
      ]
    },
    {
      "cell_type": "markdown",
      "metadata": {
        "id": "D4XEgXKuHNGd"
      },
      "source": [
        "###  Inspect the Data"
      ]
    },
    {
      "cell_type": "code",
      "execution_count": 11,
      "metadata": {
        "colab": {
          "base_uri": "https://localhost:8080/",
          "height": 206
        },
        "id": "Y6VJQ1tdnO12",
        "outputId": "55e5afea-2c5b-4a4b-8812-d13115f90e6a"
      },
      "outputs": [
        {
          "output_type": "execute_result",
          "data": {
            "text/plain": [
              "   longitude  latitude  housing_median_age  total_rooms  total_bedrooms  \\\n",
              "0    -122.23     37.88                  41          880             129   \n",
              "1    -122.22     37.86                  21         7099            1106   \n",
              "2    -122.24     37.85                  52         1467             190   \n",
              "3    -122.25     37.85                  52         1274             235   \n",
              "4    -122.25     37.85                  52         1627             280   \n",
              "\n",
              "   population  households  median_income  median_house_value ocean_proximity  \n",
              "0         322         126         8.3252              452600        NEAR BAY  \n",
              "1        2401        1138         8.3014              358500        NEAR BAY  \n",
              "2         496         177         7.2574              352100        NEAR BAY  \n",
              "3         558         219         5.6431              341300        NEAR BAY  \n",
              "4         565         259         3.8462              342200        NEAR BAY  "
            ],
            "text/html": [
              "\n",
              "  <div id=\"df-1bd909da-bd9d-4cd0-850f-146ec46e787c\">\n",
              "    <div class=\"colab-df-container\">\n",
              "      <div>\n",
              "<style scoped>\n",
              "    .dataframe tbody tr th:only-of-type {\n",
              "        vertical-align: middle;\n",
              "    }\n",
              "\n",
              "    .dataframe tbody tr th {\n",
              "        vertical-align: top;\n",
              "    }\n",
              "\n",
              "    .dataframe thead th {\n",
              "        text-align: right;\n",
              "    }\n",
              "</style>\n",
              "<table border=\"1\" class=\"dataframe\">\n",
              "  <thead>\n",
              "    <tr style=\"text-align: right;\">\n",
              "      <th></th>\n",
              "      <th>longitude</th>\n",
              "      <th>latitude</th>\n",
              "      <th>housing_median_age</th>\n",
              "      <th>total_rooms</th>\n",
              "      <th>total_bedrooms</th>\n",
              "      <th>population</th>\n",
              "      <th>households</th>\n",
              "      <th>median_income</th>\n",
              "      <th>median_house_value</th>\n",
              "      <th>ocean_proximity</th>\n",
              "    </tr>\n",
              "  </thead>\n",
              "  <tbody>\n",
              "    <tr>\n",
              "      <th>0</th>\n",
              "      <td>-122.23</td>\n",
              "      <td>37.88</td>\n",
              "      <td>41</td>\n",
              "      <td>880</td>\n",
              "      <td>129</td>\n",
              "      <td>322</td>\n",
              "      <td>126</td>\n",
              "      <td>8.3252</td>\n",
              "      <td>452600</td>\n",
              "      <td>NEAR BAY</td>\n",
              "    </tr>\n",
              "    <tr>\n",
              "      <th>1</th>\n",
              "      <td>-122.22</td>\n",
              "      <td>37.86</td>\n",
              "      <td>21</td>\n",
              "      <td>7099</td>\n",
              "      <td>1106</td>\n",
              "      <td>2401</td>\n",
              "      <td>1138</td>\n",
              "      <td>8.3014</td>\n",
              "      <td>358500</td>\n",
              "      <td>NEAR BAY</td>\n",
              "    </tr>\n",
              "    <tr>\n",
              "      <th>2</th>\n",
              "      <td>-122.24</td>\n",
              "      <td>37.85</td>\n",
              "      <td>52</td>\n",
              "      <td>1467</td>\n",
              "      <td>190</td>\n",
              "      <td>496</td>\n",
              "      <td>177</td>\n",
              "      <td>7.2574</td>\n",
              "      <td>352100</td>\n",
              "      <td>NEAR BAY</td>\n",
              "    </tr>\n",
              "    <tr>\n",
              "      <th>3</th>\n",
              "      <td>-122.25</td>\n",
              "      <td>37.85</td>\n",
              "      <td>52</td>\n",
              "      <td>1274</td>\n",
              "      <td>235</td>\n",
              "      <td>558</td>\n",
              "      <td>219</td>\n",
              "      <td>5.6431</td>\n",
              "      <td>341300</td>\n",
              "      <td>NEAR BAY</td>\n",
              "    </tr>\n",
              "    <tr>\n",
              "      <th>4</th>\n",
              "      <td>-122.25</td>\n",
              "      <td>37.85</td>\n",
              "      <td>52</td>\n",
              "      <td>1627</td>\n",
              "      <td>280</td>\n",
              "      <td>565</td>\n",
              "      <td>259</td>\n",
              "      <td>3.8462</td>\n",
              "      <td>342200</td>\n",
              "      <td>NEAR BAY</td>\n",
              "    </tr>\n",
              "  </tbody>\n",
              "</table>\n",
              "</div>\n",
              "      <button class=\"colab-df-convert\" onclick=\"convertToInteractive('df-1bd909da-bd9d-4cd0-850f-146ec46e787c')\"\n",
              "              title=\"Convert this dataframe to an interactive table.\"\n",
              "              style=\"display:none;\">\n",
              "        \n",
              "  <svg xmlns=\"http://www.w3.org/2000/svg\" height=\"24px\"viewBox=\"0 0 24 24\"\n",
              "       width=\"24px\">\n",
              "    <path d=\"M0 0h24v24H0V0z\" fill=\"none\"/>\n",
              "    <path d=\"M18.56 5.44l.94 2.06.94-2.06 2.06-.94-2.06-.94-.94-2.06-.94 2.06-2.06.94zm-11 1L8.5 8.5l.94-2.06 2.06-.94-2.06-.94L8.5 2.5l-.94 2.06-2.06.94zm10 10l.94 2.06.94-2.06 2.06-.94-2.06-.94-.94-2.06-.94 2.06-2.06.94z\"/><path d=\"M17.41 7.96l-1.37-1.37c-.4-.4-.92-.59-1.43-.59-.52 0-1.04.2-1.43.59L10.3 9.45l-7.72 7.72c-.78.78-.78 2.05 0 2.83L4 21.41c.39.39.9.59 1.41.59.51 0 1.02-.2 1.41-.59l7.78-7.78 2.81-2.81c.8-.78.8-2.07 0-2.86zM5.41 20L4 18.59l7.72-7.72 1.47 1.35L5.41 20z\"/>\n",
              "  </svg>\n",
              "      </button>\n",
              "      \n",
              "  <style>\n",
              "    .colab-df-container {\n",
              "      display:flex;\n",
              "      flex-wrap:wrap;\n",
              "      gap: 12px;\n",
              "    }\n",
              "\n",
              "    .colab-df-convert {\n",
              "      background-color: #E8F0FE;\n",
              "      border: none;\n",
              "      border-radius: 50%;\n",
              "      cursor: pointer;\n",
              "      display: none;\n",
              "      fill: #1967D2;\n",
              "      height: 32px;\n",
              "      padding: 0 0 0 0;\n",
              "      width: 32px;\n",
              "    }\n",
              "\n",
              "    .colab-df-convert:hover {\n",
              "      background-color: #E2EBFA;\n",
              "      box-shadow: 0px 1px 2px rgba(60, 64, 67, 0.3), 0px 1px 3px 1px rgba(60, 64, 67, 0.15);\n",
              "      fill: #174EA6;\n",
              "    }\n",
              "\n",
              "    [theme=dark] .colab-df-convert {\n",
              "      background-color: #3B4455;\n",
              "      fill: #D2E3FC;\n",
              "    }\n",
              "\n",
              "    [theme=dark] .colab-df-convert:hover {\n",
              "      background-color: #434B5C;\n",
              "      box-shadow: 0px 1px 3px 1px rgba(0, 0, 0, 0.15);\n",
              "      filter: drop-shadow(0px 1px 2px rgba(0, 0, 0, 0.3));\n",
              "      fill: #FFFFFF;\n",
              "    }\n",
              "  </style>\n",
              "\n",
              "      <script>\n",
              "        const buttonEl =\n",
              "          document.querySelector('#df-1bd909da-bd9d-4cd0-850f-146ec46e787c button.colab-df-convert');\n",
              "        buttonEl.style.display =\n",
              "          google.colab.kernel.accessAllowed ? 'block' : 'none';\n",
              "\n",
              "        async function convertToInteractive(key) {\n",
              "          const element = document.querySelector('#df-1bd909da-bd9d-4cd0-850f-146ec46e787c');\n",
              "          const dataTable =\n",
              "            await google.colab.kernel.invokeFunction('convertToInteractive',\n",
              "                                                     [key], {});\n",
              "          if (!dataTable) return;\n",
              "\n",
              "          const docLinkHtml = 'Like what you see? Visit the ' +\n",
              "            '<a target=\"_blank\" href=https://colab.research.google.com/notebooks/data_table.ipynb>data table notebook</a>'\n",
              "            + ' to learn more about interactive tables.';\n",
              "          element.innerHTML = '';\n",
              "          dataTable['output_type'] = 'display_data';\n",
              "          await google.colab.output.renderOutput(dataTable, element);\n",
              "          const docLink = document.createElement('div');\n",
              "          docLink.innerHTML = docLinkHtml;\n",
              "          element.appendChild(docLink);\n",
              "        }\n",
              "      </script>\n",
              "    </div>\n",
              "  </div>\n",
              "  "
            ]
          },
          "metadata": {},
          "execution_count": 11
        }
      ],
      "source": [
        "# Show the first five row.\n",
        "\n",
        "df_USAhousing.head()"
      ]
    },
    {
      "cell_type": "markdown",
      "metadata": {
        "id": "u1BVhIBlHNGe"
      },
      "source": [
        "Let's check for any null values."
      ]
    },
    {
      "cell_type": "code",
      "execution_count": 13,
      "metadata": {
        "colab": {
          "base_uri": "https://localhost:8080/"
        },
        "id": "qjifpbwJHNGe",
        "outputId": "7b89ea1f-9c62-449a-d0ba-b63c26589413"
      },
      "outputs": [
        {
          "output_type": "execute_result",
          "data": {
            "text/plain": [
              "longitude             0\n",
              "latitude              0\n",
              "housing_median_age    0\n",
              "total_rooms           0\n",
              "total_bedrooms        0\n",
              "population            0\n",
              "households            0\n",
              "median_income         0\n",
              "median_house_value    0\n",
              "ocean_proximity       0\n",
              "dtype: int64"
            ]
          },
          "metadata": {},
          "execution_count": 13
        }
      ],
      "source": [
        "df_USAhousing.isnull().sum()"
      ]
    },
    {
      "cell_type": "code",
      "execution_count": 15,
      "metadata": {
        "colab": {
          "base_uri": "https://localhost:8080/",
          "height": 332
        },
        "id": "nRTsvSzqnO17",
        "outputId": "3790a8a9-0143-4ef8-f647-c18135087fa7"
      },
      "outputs": [
        {
          "output_type": "execute_result",
          "data": {
            "text/plain": [
              "                     count           mean           std         min  \\\n",
              "longitude           2500.0    -121.501836      1.015963   -124.3000   \n",
              "latitude            2500.0      37.802288      0.803090     36.1300   \n",
              "housing_median_age  2500.0      30.088400     13.878416      2.0000   \n",
              "total_rooms         2500.0    2522.734000   1988.411988     12.0000   \n",
              "total_bedrooms      2500.0     491.862400    362.499497      4.0000   \n",
              "population          2500.0    1246.225200    925.075463     18.0000   \n",
              "households          2500.0     458.122000    341.744308      2.0000   \n",
              "median_income       2500.0       3.694312      1.859422      0.4999   \n",
              "median_house_value  2500.0  170288.731200  97550.278529  22500.0000   \n",
              "\n",
              "                             25%          50%            75%          max  \n",
              "longitude            -122.200000    -122.0300    -120.697500    -118.9100  \n",
              "latitude               37.600000      37.8000      37.960000      41.9500  \n",
              "housing_median_age     18.000000      30.0000      41.000000      52.0000  \n",
              "total_rooms          1420.750000    2052.0000    3007.250000   28258.0000  \n",
              "total_bedrooms        282.000000     402.0000     581.250000    3864.0000  \n",
              "population            718.000000    1030.5000    1488.250000   12203.0000  \n",
              "households            263.000000     374.5000     538.000000    3701.0000  \n",
              "median_income           2.357875       3.2622       4.662975      15.0001  \n",
              "median_house_value  92950.000000  150800.0000  219650.000000  500001.0000  "
            ],
            "text/html": [
              "\n",
              "  <div id=\"df-79e5b346-d80a-421d-9429-1a11e1f2438e\">\n",
              "    <div class=\"colab-df-container\">\n",
              "      <div>\n",
              "<style scoped>\n",
              "    .dataframe tbody tr th:only-of-type {\n",
              "        vertical-align: middle;\n",
              "    }\n",
              "\n",
              "    .dataframe tbody tr th {\n",
              "        vertical-align: top;\n",
              "    }\n",
              "\n",
              "    .dataframe thead th {\n",
              "        text-align: right;\n",
              "    }\n",
              "</style>\n",
              "<table border=\"1\" class=\"dataframe\">\n",
              "  <thead>\n",
              "    <tr style=\"text-align: right;\">\n",
              "      <th></th>\n",
              "      <th>count</th>\n",
              "      <th>mean</th>\n",
              "      <th>std</th>\n",
              "      <th>min</th>\n",
              "      <th>25%</th>\n",
              "      <th>50%</th>\n",
              "      <th>75%</th>\n",
              "      <th>max</th>\n",
              "    </tr>\n",
              "  </thead>\n",
              "  <tbody>\n",
              "    <tr>\n",
              "      <th>longitude</th>\n",
              "      <td>2500.0</td>\n",
              "      <td>-121.501836</td>\n",
              "      <td>1.015963</td>\n",
              "      <td>-124.3000</td>\n",
              "      <td>-122.200000</td>\n",
              "      <td>-122.0300</td>\n",
              "      <td>-120.697500</td>\n",
              "      <td>-118.9100</td>\n",
              "    </tr>\n",
              "    <tr>\n",
              "      <th>latitude</th>\n",
              "      <td>2500.0</td>\n",
              "      <td>37.802288</td>\n",
              "      <td>0.803090</td>\n",
              "      <td>36.1300</td>\n",
              "      <td>37.600000</td>\n",
              "      <td>37.8000</td>\n",
              "      <td>37.960000</td>\n",
              "      <td>41.9500</td>\n",
              "    </tr>\n",
              "    <tr>\n",
              "      <th>housing_median_age</th>\n",
              "      <td>2500.0</td>\n",
              "      <td>30.088400</td>\n",
              "      <td>13.878416</td>\n",
              "      <td>2.0000</td>\n",
              "      <td>18.000000</td>\n",
              "      <td>30.0000</td>\n",
              "      <td>41.000000</td>\n",
              "      <td>52.0000</td>\n",
              "    </tr>\n",
              "    <tr>\n",
              "      <th>total_rooms</th>\n",
              "      <td>2500.0</td>\n",
              "      <td>2522.734000</td>\n",
              "      <td>1988.411988</td>\n",
              "      <td>12.0000</td>\n",
              "      <td>1420.750000</td>\n",
              "      <td>2052.0000</td>\n",
              "      <td>3007.250000</td>\n",
              "      <td>28258.0000</td>\n",
              "    </tr>\n",
              "    <tr>\n",
              "      <th>total_bedrooms</th>\n",
              "      <td>2500.0</td>\n",
              "      <td>491.862400</td>\n",
              "      <td>362.499497</td>\n",
              "      <td>4.0000</td>\n",
              "      <td>282.000000</td>\n",
              "      <td>402.0000</td>\n",
              "      <td>581.250000</td>\n",
              "      <td>3864.0000</td>\n",
              "    </tr>\n",
              "    <tr>\n",
              "      <th>population</th>\n",
              "      <td>2500.0</td>\n",
              "      <td>1246.225200</td>\n",
              "      <td>925.075463</td>\n",
              "      <td>18.0000</td>\n",
              "      <td>718.000000</td>\n",
              "      <td>1030.5000</td>\n",
              "      <td>1488.250000</td>\n",
              "      <td>12203.0000</td>\n",
              "    </tr>\n",
              "    <tr>\n",
              "      <th>households</th>\n",
              "      <td>2500.0</td>\n",
              "      <td>458.122000</td>\n",
              "      <td>341.744308</td>\n",
              "      <td>2.0000</td>\n",
              "      <td>263.000000</td>\n",
              "      <td>374.5000</td>\n",
              "      <td>538.000000</td>\n",
              "      <td>3701.0000</td>\n",
              "    </tr>\n",
              "    <tr>\n",
              "      <th>median_income</th>\n",
              "      <td>2500.0</td>\n",
              "      <td>3.694312</td>\n",
              "      <td>1.859422</td>\n",
              "      <td>0.4999</td>\n",
              "      <td>2.357875</td>\n",
              "      <td>3.2622</td>\n",
              "      <td>4.662975</td>\n",
              "      <td>15.0001</td>\n",
              "    </tr>\n",
              "    <tr>\n",
              "      <th>median_house_value</th>\n",
              "      <td>2500.0</td>\n",
              "      <td>170288.731200</td>\n",
              "      <td>97550.278529</td>\n",
              "      <td>22500.0000</td>\n",
              "      <td>92950.000000</td>\n",
              "      <td>150800.0000</td>\n",
              "      <td>219650.000000</td>\n",
              "      <td>500001.0000</td>\n",
              "    </tr>\n",
              "  </tbody>\n",
              "</table>\n",
              "</div>\n",
              "      <button class=\"colab-df-convert\" onclick=\"convertToInteractive('df-79e5b346-d80a-421d-9429-1a11e1f2438e')\"\n",
              "              title=\"Convert this dataframe to an interactive table.\"\n",
              "              style=\"display:none;\">\n",
              "        \n",
              "  <svg xmlns=\"http://www.w3.org/2000/svg\" height=\"24px\"viewBox=\"0 0 24 24\"\n",
              "       width=\"24px\">\n",
              "    <path d=\"M0 0h24v24H0V0z\" fill=\"none\"/>\n",
              "    <path d=\"M18.56 5.44l.94 2.06.94-2.06 2.06-.94-2.06-.94-.94-2.06-.94 2.06-2.06.94zm-11 1L8.5 8.5l.94-2.06 2.06-.94-2.06-.94L8.5 2.5l-.94 2.06-2.06.94zm10 10l.94 2.06.94-2.06 2.06-.94-2.06-.94-.94-2.06-.94 2.06-2.06.94z\"/><path d=\"M17.41 7.96l-1.37-1.37c-.4-.4-.92-.59-1.43-.59-.52 0-1.04.2-1.43.59L10.3 9.45l-7.72 7.72c-.78.78-.78 2.05 0 2.83L4 21.41c.39.39.9.59 1.41.59.51 0 1.02-.2 1.41-.59l7.78-7.78 2.81-2.81c.8-.78.8-2.07 0-2.86zM5.41 20L4 18.59l7.72-7.72 1.47 1.35L5.41 20z\"/>\n",
              "  </svg>\n",
              "      </button>\n",
              "      \n",
              "  <style>\n",
              "    .colab-df-container {\n",
              "      display:flex;\n",
              "      flex-wrap:wrap;\n",
              "      gap: 12px;\n",
              "    }\n",
              "\n",
              "    .colab-df-convert {\n",
              "      background-color: #E8F0FE;\n",
              "      border: none;\n",
              "      border-radius: 50%;\n",
              "      cursor: pointer;\n",
              "      display: none;\n",
              "      fill: #1967D2;\n",
              "      height: 32px;\n",
              "      padding: 0 0 0 0;\n",
              "      width: 32px;\n",
              "    }\n",
              "\n",
              "    .colab-df-convert:hover {\n",
              "      background-color: #E2EBFA;\n",
              "      box-shadow: 0px 1px 2px rgba(60, 64, 67, 0.3), 0px 1px 3px 1px rgba(60, 64, 67, 0.15);\n",
              "      fill: #174EA6;\n",
              "    }\n",
              "\n",
              "    [theme=dark] .colab-df-convert {\n",
              "      background-color: #3B4455;\n",
              "      fill: #D2E3FC;\n",
              "    }\n",
              "\n",
              "    [theme=dark] .colab-df-convert:hover {\n",
              "      background-color: #434B5C;\n",
              "      box-shadow: 0px 1px 3px 1px rgba(0, 0, 0, 0.15);\n",
              "      filter: drop-shadow(0px 1px 2px rgba(0, 0, 0, 0.3));\n",
              "      fill: #FFFFFF;\n",
              "    }\n",
              "  </style>\n",
              "\n",
              "      <script>\n",
              "        const buttonEl =\n",
              "          document.querySelector('#df-79e5b346-d80a-421d-9429-1a11e1f2438e button.colab-df-convert');\n",
              "        buttonEl.style.display =\n",
              "          google.colab.kernel.accessAllowed ? 'block' : 'none';\n",
              "\n",
              "        async function convertToInteractive(key) {\n",
              "          const element = document.querySelector('#df-79e5b346-d80a-421d-9429-1a11e1f2438e');\n",
              "          const dataTable =\n",
              "            await google.colab.kernel.invokeFunction('convertToInteractive',\n",
              "                                                     [key], {});\n",
              "          if (!dataTable) return;\n",
              "\n",
              "          const docLinkHtml = 'Like what you see? Visit the ' +\n",
              "            '<a target=\"_blank\" href=https://colab.research.google.com/notebooks/data_table.ipynb>data table notebook</a>'\n",
              "            + ' to learn more about interactive tables.';\n",
              "          element.innerHTML = '';\n",
              "          dataTable['output_type'] = 'display_data';\n",
              "          await google.colab.output.renderOutput(dataTable, element);\n",
              "          const docLink = document.createElement('div');\n",
              "          docLink.innerHTML = docLinkHtml;\n",
              "          element.appendChild(docLink);\n",
              "        }\n",
              "      </script>\n",
              "    </div>\n",
              "  </div>\n",
              "  "
            ]
          },
          "metadata": {},
          "execution_count": 15
        }
      ],
      "source": [
        "df_stats=df_USAhousing.describe()\n",
        "df_stats=df_stats.T\n",
        "df_stats"
      ]
    },
    {
      "cell_type": "code",
      "execution_count": null,
      "metadata": {
        "id": "O5AqwBfmHNGf",
        "outputId": "f2e34cc7-7883-48f6-ed9c-6a47de7044b2"
      },
      "outputs": [
        {
          "name": "stdout",
          "output_type": "stream",
          "text": [
            "<class 'pandas.core.frame.DataFrame'>\n",
            "RangeIndex: 2500 entries, 0 to 2499\n",
            "Data columns (total 10 columns):\n",
            " #   Column              Non-Null Count  Dtype  \n",
            "---  ------              --------------  -----  \n",
            " 0   longitude           2500 non-null   float64\n",
            " 1   latitude            2500 non-null   float64\n",
            " 2   housing_median_age  2500 non-null   int64  \n",
            " 3   total_rooms         2500 non-null   int64  \n",
            " 4   total_bedrooms      2500 non-null   int64  \n",
            " 5   population          2500 non-null   int64  \n",
            " 6   households          2500 non-null   int64  \n",
            " 7   median_income       2500 non-null   float64\n",
            " 8   median_house_value  2500 non-null   int64  \n",
            " 9   ocean_proximity     2500 non-null   object \n",
            "dtypes: float64(3), int64(6), object(1)\n",
            "memory usage: 195.4+ KB\n"
          ]
        }
      ],
      "source": [
        "df_USAhousing.info()"
      ]
    },
    {
      "cell_type": "markdown",
      "metadata": {
        "id": "3I93D0nuHNGf"
      },
      "source": [
        "Let's take a peek at the first and last five rows of the data for all columns."
      ]
    },
    {
      "cell_type": "code",
      "execution_count": 21,
      "metadata": {
        "colab": {
          "base_uri": "https://localhost:8080/"
        },
        "id": "2OmaUw27HNGg",
        "outputId": "2c349e8d-5eb5-4668-ca4a-3a5099210e83"
      },
      "outputs": [
        {
          "output_type": "stream",
          "name": "stdout",
          "text": [
            "Rows: 9\n",
            "Columns: 8\n",
            "\n",
            "Features : \n",
            " ['count', 'mean', 'std', 'min', '25%', '50%', '75%', 'max']\n",
            "\n",
            "Unique values :\n",
            " count    1\n",
            "mean     9\n",
            "std      9\n",
            "min      8\n",
            "25%      9\n",
            "50%      9\n",
            "75%      9\n",
            "max      9\n",
            "dtype: int64\n",
            "\n",
            "Missing values : 0\n"
          ]
        }
      ],
      "source": [
        "print(f\"Rows: {df_stats.shape[0]}\")\n",
        "print(f\"Columns: {df_stats.shape[1]}\")\n",
        "print(f\"\\nFeatures : \\n {df_stats.columns.tolist()}\")\n",
        "print(f\"\\nUnique values :\\n {df_stats.nunique()}\")\n",
        "print(f\"\\nMissing values : {df_stats.isnull().sum().values.sum()}\")"
      ]
    },
    {
      "cell_type": "markdown",
      "metadata": {
        "id": "QWVdsrmgnO1_"
      },
      "source": [
        "## Explore the Data\n",
        "\n",
        "Let's create some simple plots to check out the data!  "
      ]
    },
    {
      "cell_type": "code",
      "execution_count": 22,
      "metadata": {
        "colab": {
          "base_uri": "https://localhost:8080/",
          "height": 382
        },
        "id": "1uRTedQAHNGh",
        "outputId": "c6a310a4-5908-4955-a3ac-5173b87a5133"
      },
      "outputs": [
        {
          "output_type": "execute_result",
          "data": {
            "text/plain": [
              "<matplotlib.axes._subplots.AxesSubplot at 0x7fc6542f57d0>"
            ]
          },
          "metadata": {},
          "execution_count": 22
        },
        {
          "output_type": "display_data",
          "data": {
            "text/plain": [
              "<Figure size 432x288 with 2 Axes>"
            ],
            "image/png": "[encoded data removed]"
          },
          "metadata": {
            "needs_background": "light"
          }
        }
      ],
      "source": [
        "sns.heatmap(df_USAhousing.corr())"
      ]
    },
    {
      "cell_type": "markdown",
      "metadata": {
        "id": "tX2r8F1QHNGh"
      },
      "source": [
        "Create a displot showing \"median_house_value\"."
      ]
    },
    {
      "cell_type": "code",
      "execution_count": 23,
      "metadata": {
        "colab": {
          "base_uri": "https://localhost:8080/",
          "height": 386
        },
        "id": "SOsTLClWnO2B",
        "outputId": "7009b9db-d33c-4ee6-a2a9-dbcb7fd161c5"
      },
      "outputs": [
        {
          "output_type": "execute_result",
          "data": {
            "text/plain": [
              "<seaborn.axisgrid.FacetGrid at 0x7fc6524f1490>"
            ]
          },
          "metadata": {},
          "execution_count": 23
        },
        {
          "output_type": "display_data",
          "data": {
            "text/plain": [
              "<Figure size 360x360 with 1 Axes>"
            ],
            "image/png": "[encoded data removed]"
          },
          "metadata": {
            "needs_background": "light"
          }
        }
      ],
      "source": [
        "# TODO 2a: Your code goes here\n",
        "sns.displot(data=df_USAhousing, x=df_USAhousing.median_house_value)"
      ]
    },
    {
      "cell_type": "code",
      "execution_count": null,
      "metadata": {
        "id": "2PDglr2tHNGi",
        "outputId": "0c4ead86-c7e6-4d26-e709-ccfef77e61f6"
      },
      "outputs": [
        {
          "data": {
            "text/plain": [
              "Text(0.5, 0, 'median_house_value')"
            ]
          },
          "execution_count": 14,
          "metadata": {},
          "output_type": "execute_result"
        },
        {
          "data": {
            "image/png": "[encoded data removed]",
            "text/plain": [
              "<Figure size 432x288 with 1 Axes>"
            ]
          },
          "metadata": {},
          "output_type": "display_data"
        }
      ],
      "source": [
        "sns.set_style('whitegrid')\n",
        "df_USAhousing['median_house_value'].hist(bins=30)\n",
        "plt.xlabel('median_house_value')"
      ]
    },
    {
      "cell_type": "code",
      "execution_count": null,
      "metadata": {
        "id": "p9Lszx1qHNGi",
        "outputId": "048fd012-5348-41b4-fd91-fefd9ad73ef3"
      },
      "outputs": [
        {
          "data": {
            "image/png": "[encoded data removed]",
            "text/plain": [
              "<Figure size 432x288 with 1 Axes>"
            ]
          },
          "metadata": {},
          "output_type": "display_data"
        }
      ],
      "source": [
        "x = df_USAhousing['median_income']\n",
        "y = df_USAhousing['median_house_value']\n",
        "\n",
        "plt.scatter(x, y)\n",
        "plt.show()"
      ]
    },
    {
      "cell_type": "markdown",
      "metadata": {
        "id": "8tAc5WlMHNGj"
      },
      "source": [
        "Create a jointplot showing \"median_income\"  versus \"median_house_value\"."
      ]
    },
    {
      "cell_type": "code",
      "execution_count": 25,
      "metadata": {
        "colab": {
          "base_uri": "https://localhost:8080/",
          "height": 458
        },
        "id": "y986k2U_HNGj",
        "outputId": "7f948baf-7ce1-463e-ea65-abc9d240e3c0"
      },
      "outputs": [
        {
          "output_type": "execute_result",
          "data": {
            "text/plain": [
              "<seaborn.axisgrid.JointGrid at 0x7fc652381490>"
            ]
          },
          "metadata": {},
          "execution_count": 25
        },
        {
          "output_type": "display_data",
          "data": {
            "text/plain": [
              "<Figure size 432x432 with 3 Axes>"
            ],
            "image/png": "[encoded data removed]"
          },
          "metadata": {
            "needs_background": "light"
          }
        }
      ],
      "source": [
        "# TODO 2b: Your code goes here\n",
        "sns.jointplot(data=df_USAhousing, x=df_USAhousing.median_income, y=df_USAhousing.median_house_value)"
      ]
    },
    {
      "cell_type": "code",
      "execution_count": null,
      "metadata": {
        "id": "6DeIxeqEHNGj",
        "outputId": "41a2749a-65df-49fc-c739-758ee53f7ea3"
      },
      "outputs": [
        {
          "data": {
            "text/plain": [
              "<matplotlib.axes._subplots.AxesSubplot at 0x7f25ba4ef400>"
            ]
          },
          "execution_count": 17,
          "metadata": {},
          "output_type": "execute_result"
        },
        {
          "data": {
            "image/png": "[encoded data removed]",
            "text/plain": [
              "<Figure size 432x288 with 1 Axes>"
            ]
          },
          "metadata": {},
          "output_type": "display_data"
        }
      ],
      "source": [
        "sns.countplot(x = 'ocean_proximity', data=df_USAhousing)"
      ]
    },
    {
      "cell_type": "code",
      "execution_count": 26,
      "metadata": {
        "colab": {
          "base_uri": "https://localhost:8080/",
          "height": 242
        },
        "id": "Jw6pGYkjHNGk",
        "outputId": "84ddd965-69f9-4d54-ac11-a76ac087211b"
      },
      "outputs": [
        {
          "output_type": "display_data",
          "data": {
            "text/plain": [
              "<Figure size 1440x1440 with 0 Axes>"
            ]
          },
          "metadata": {}
        },
        {
          "output_type": "display_data",
          "data": {
            "text/plain": [
              "<Figure size 864x216 with 4 Axes>"
            ],
            "image/png": "[encoded data removed]"
          },
          "metadata": {
            "needs_background": "light"
          }
        }
      ],
      "source": [
        "# takes numeric only?\n",
        "plt.figure(figsize=(20,20))\n",
        "g = sns.FacetGrid(df_USAhousing, col=\"ocean_proximity\")\n",
        "g.map(plt.hist, \"households\");"
      ]
    },
    {
      "cell_type": "code",
      "execution_count": null,
      "metadata": {
        "id": "NgpYKkOhHNGk",
        "outputId": "e6d668c2-e8fa-4bb5-cd52-c25a71c6b092"
      },
      "outputs": [
        {
          "data": {
            "image/png": "[encoded data removed]",
            "text/plain": [
              "<Figure size 864x216 with 4 Axes>"
            ]
          },
          "metadata": {},
          "output_type": "display_data"
        }
      ],
      "source": [
        "# takes numeric only?\n",
        "#plt.figure(figsize=(20,20))\n",
        "g = sns.FacetGrid(df_USAhousing, col=\"ocean_proximity\")\n",
        "g.map(plt.hist, \"median_income\");"
      ]
    },
    {
      "cell_type": "markdown",
      "metadata": {
        "id": "F--ADgx7HNGk"
      },
      "source": [
        "You can see below that this is the state of California!"
      ]
    },
    {
      "cell_type": "code",
      "execution_count": null,
      "metadata": {
        "id": "t46wEfzLHNGk",
        "outputId": "cf1d316a-3302-4071-c8a3-7e157881a92d"
      },
      "outputs": [
        {
          "data": {
            "image/png": "[encoded data removed]",
            "text/plain": [
              "<Figure size 432x288 with 1 Axes>"
            ]
          },
          "metadata": {},
          "output_type": "display_data"
        }
      ],
      "source": [
        "x = df_USAhousing['latitude']\n",
        "y = df_USAhousing['longitude']\n",
        "\n",
        "plt.scatter(x, y)\n",
        "plt.show()"
      ]
    },
    {
      "cell_type": "markdown",
      "metadata": {
        "id": "kYQP486NHNGl"
      },
      "source": [
        "# Explore and create ML datasets\n",
        "\n",
        "In this notebook, we will explore data corresponding to taxi rides in New York City to build a Machine Learning model in support of a fare-estimation tool. The idea is to suggest a likely fare to taxi riders so that they are not surprised, and so that they can protest if the charge is much higher than expected.\n",
        "\n",
        "## Learning objectives\n",
        "* Access and explore a public BigQuery dataset on NYC Taxi Cab rides\n",
        "* Visualize your dataset using the Seaborn library\n",
        "\n",
        "\n",
        "First, **restart the Kernel**.  Now, let's start with the Python imports that we need."
      ]
    },
    {
      "cell_type": "code",
      "execution_count": 27,
      "metadata": {
        "id": "DrIHNlLgHNGl"
      },
      "outputs": [],
      "source": [
        "from google.cloud import bigquery\n",
        "import seaborn as sns\n",
        "import matplotlib.pyplot as plt\n",
        "import pandas as pd\n",
        "import numpy as np"
      ]
    },
    {
      "cell_type": "markdown",
      "metadata": {
        "id": "mKIdPzxOHNGl"
      },
      "source": [
        "<h3> Extract sample data from BigQuery </h3>\n",
        "\n",
        "The dataset that we will use is <a href=\"https://console.cloud.google.com/bigquery?project=nyc-tlc&p=nyc-tlc&d=yellow&t=trips&page=table\">a BigQuery public dataset</a>. Click on the link, and look at the column names. Switch to the Details tab to verify that the number of records is one billion, and then switch to the Preview tab to look at a few rows.\n",
        "\n",
        "Let's write a SQL query to pick up interesting fields from the dataset. It's a good idea to get the timestamp in a predictable format."
      ]
    },
    {
      "cell_type": "code",
      "execution_count": null,
      "metadata": {
        "id": "qZ5TV7dQHNGl",
        "outputId": "280b9079-757f-4c1b-856e-28d0c30f612f"
      },
      "outputs": [
        {
          "data": {
            "text/html": [
              "<div>\n",
              "<style scoped>\n",
              "    .dataframe tbody tr th:only-of-type {\n",
              "        vertical-align: middle;\n",
              "    }\n",
              "\n",
              "    .dataframe tbody tr th {\n",
              "        vertical-align: top;\n",
              "    }\n",
              "\n",
              "    .dataframe thead th {\n",
              "        text-align: right;\n",
              "    }\n",
              "</style>\n",
              "<table border=\"1\" class=\"dataframe\">\n",
              "  <thead>\n",
              "    <tr style=\"text-align: right;\">\n",
              "      <th></th>\n",
              "      <th>pickup_datetime</th>\n",
              "      <th>pickup_longitude</th>\n",
              "      <th>pickup_latitude</th>\n",
              "      <th>dropoff_longitude</th>\n",
              "      <th>dropoff_latitude</th>\n",
              "      <th>passenger_count</th>\n",
              "      <th>trip_distance</th>\n",
              "      <th>tolls_amount</th>\n",
              "      <th>fare_amount</th>\n",
              "      <th>total_amount</th>\n",
              "    </tr>\n",
              "  </thead>\n",
              "  <tbody>\n",
              "    <tr>\n",
              "      <th>0</th>\n",
              "      <td>2010-02-05 01:20:05 UTC</td>\n",
              "      <td>-73.979935</td>\n",
              "      <td>40.761105</td>\n",
              "      <td>-73.966230</td>\n",
              "      <td>40.689831</td>\n",
              "      <td>1</td>\n",
              "      <td>84.8</td>\n",
              "      <td>0.0</td>\n",
              "      <td>0.0</td>\n",
              "      <td>0.0</td>\n",
              "    </tr>\n",
              "    <tr>\n",
              "      <th>1</th>\n",
              "      <td>2010-03-07 00:58:45 UTC</td>\n",
              "      <td>-74.001449</td>\n",
              "      <td>40.726071</td>\n",
              "      <td>-73.980448</td>\n",
              "      <td>40.744253</td>\n",
              "      <td>2</td>\n",
              "      <td>2.2</td>\n",
              "      <td>0.0</td>\n",
              "      <td>0.0</td>\n",
              "      <td>0.0</td>\n",
              "    </tr>\n",
              "    <tr>\n",
              "      <th>2</th>\n",
              "      <td>2010-03-05 20:17:51 UTC</td>\n",
              "      <td>-73.863740</td>\n",
              "      <td>40.734245</td>\n",
              "      <td>-73.991364</td>\n",
              "      <td>40.750096</td>\n",
              "      <td>1</td>\n",
              "      <td>7.6</td>\n",
              "      <td>0.0</td>\n",
              "      <td>0.0</td>\n",
              "      <td>0.0</td>\n",
              "    </tr>\n",
              "    <tr>\n",
              "      <th>3</th>\n",
              "      <td>2010-03-29 08:12:38 UTC</td>\n",
              "      <td>-73.993394</td>\n",
              "      <td>40.747158</td>\n",
              "      <td>-73.790150</td>\n",
              "      <td>40.646883</td>\n",
              "      <td>1</td>\n",
              "      <td>171.1</td>\n",
              "      <td>0.0</td>\n",
              "      <td>0.0</td>\n",
              "      <td>0.0</td>\n",
              "    </tr>\n",
              "    <tr>\n",
              "      <th>4</th>\n",
              "      <td>2015-02-22 22:40:31 UTC</td>\n",
              "      <td>-73.937363</td>\n",
              "      <td>40.758041</td>\n",
              "      <td>-73.937386</td>\n",
              "      <td>40.758060</td>\n",
              "      <td>1</td>\n",
              "      <td>0.0</td>\n",
              "      <td>0.0</td>\n",
              "      <td>0.0</td>\n",
              "      <td>0.0</td>\n",
              "    </tr>\n",
              "    <tr>\n",
              "      <th>5</th>\n",
              "      <td>2010-03-14 05:27:23 UTC</td>\n",
              "      <td>-73.993982</td>\n",
              "      <td>40.770577</td>\n",
              "      <td>-73.997214</td>\n",
              "      <td>40.762466</td>\n",
              "      <td>1</td>\n",
              "      <td>12.4</td>\n",
              "      <td>0.0</td>\n",
              "      <td>0.0</td>\n",
              "      <td>0.0</td>\n",
              "    </tr>\n",
              "    <tr>\n",
              "      <th>6</th>\n",
              "      <td>2010-02-04 22:41:28 UTC</td>\n",
              "      <td>-73.991934</td>\n",
              "      <td>40.730339</td>\n",
              "      <td>-73.991934</td>\n",
              "      <td>40.730339</td>\n",
              "      <td>1</td>\n",
              "      <td>0.0</td>\n",
              "      <td>0.0</td>\n",
              "      <td>0.0</td>\n",
              "      <td>0.0</td>\n",
              "    </tr>\n",
              "    <tr>\n",
              "      <th>7</th>\n",
              "      <td>2013-08-15 03:49:56 UTC</td>\n",
              "      <td>-73.937020</td>\n",
              "      <td>40.620175</td>\n",
              "      <td>-73.936452</td>\n",
              "      <td>40.620522</td>\n",
              "      <td>1</td>\n",
              "      <td>0.0</td>\n",
              "      <td>0.0</td>\n",
              "      <td>0.0</td>\n",
              "      <td>0.0</td>\n",
              "    </tr>\n",
              "    <tr>\n",
              "      <th>8</th>\n",
              "      <td>2010-03-02 14:45:23 UTC</td>\n",
              "      <td>-73.973403</td>\n",
              "      <td>40.754323</td>\n",
              "      <td>-73.806456</td>\n",
              "      <td>40.652384</td>\n",
              "      <td>1</td>\n",
              "      <td>14.9</td>\n",
              "      <td>0.0</td>\n",
              "      <td>0.0</td>\n",
              "      <td>0.0</td>\n",
              "    </tr>\n",
              "    <tr>\n",
              "      <th>9</th>\n",
              "      <td>2010-03-11 01:24:14 UTC</td>\n",
              "      <td>-73.990386</td>\n",
              "      <td>40.757301</td>\n",
              "      <td>-74.006484</td>\n",
              "      <td>40.782452</td>\n",
              "      <td>1</td>\n",
              "      <td>46.4</td>\n",
              "      <td>6.0</td>\n",
              "      <td>0.0</td>\n",
              "      <td>6.0</td>\n",
              "    </tr>\n",
              "  </tbody>\n",
              "</table>\n",
              "</div>"
            ],
            "text/plain": [
              "           pickup_datetime  pickup_longitude  pickup_latitude  \\\n",
              "0  2010-02-05 01:20:05 UTC        -73.979935        40.761105   \n",
              "1  2010-03-07 00:58:45 UTC        -74.001449        40.726071   \n",
              "2  2010-03-05 20:17:51 UTC        -73.863740        40.734245   \n",
              "3  2010-03-29 08:12:38 UTC        -73.993394        40.747158   \n",
              "4  2015-02-22 22:40:31 UTC        -73.937363        40.758041   \n",
              "5  2010-03-14 05:27:23 UTC        -73.993982        40.770577   \n",
              "6  2010-02-04 22:41:28 UTC        -73.991934        40.730339   \n",
              "7  2013-08-15 03:49:56 UTC        -73.937020        40.620175   \n",
              "8  2010-03-02 14:45:23 UTC        -73.973403        40.754323   \n",
              "9  2010-03-11 01:24:14 UTC        -73.990386        40.757301   \n",
              "\n",
              "   dropoff_longitude  dropoff_latitude  passenger_count  trip_distance  \\\n",
              "0         -73.966230         40.689831                1           84.8   \n",
              "1         -73.980448         40.744253                2            2.2   \n",
              "2         -73.991364         40.750096                1            7.6   \n",
              "3         -73.790150         40.646883                1          171.1   \n",
              "4         -73.937386         40.758060                1            0.0   \n",
              "5         -73.997214         40.762466                1           12.4   \n",
              "6         -73.991934         40.730339                1            0.0   \n",
              "7         -73.936452         40.620522                1            0.0   \n",
              "8         -73.806456         40.652384                1           14.9   \n",
              "9         -74.006484         40.782452                1           46.4   \n",
              "\n",
              "   tolls_amount  fare_amount  total_amount  \n",
              "0           0.0          0.0           0.0  \n",
              "1           0.0          0.0           0.0  \n",
              "2           0.0          0.0           0.0  \n",
              "3           0.0          0.0           0.0  \n",
              "4           0.0          0.0           0.0  \n",
              "5           0.0          0.0           0.0  \n",
              "6           0.0          0.0           0.0  \n",
              "7           0.0          0.0           0.0  \n",
              "8           0.0          0.0           0.0  \n",
              "9           6.0          0.0           6.0  "
            ]
          },
          "execution_count": 2,
          "metadata": {},
          "output_type": "execute_result"
        }
      ],
      "source": [
        "%%bigquery\n",
        "SELECT\n",
        "    FORMAT_TIMESTAMP(\n",
        "        \"%Y-%m-%d %H:%M:%S %Z\", pickup_datetime) AS pickup_datetime,\n",
        "    pickup_longitude, pickup_latitude, dropoff_longitude,\n",
        "    dropoff_latitude, passenger_count, trip_distance, tolls_amount, \n",
        "    fare_amount, total_amount \n",
        "# TODO 3: Set correct BigQuery public dataset for nyc-tlc yellow taxi cab trips\n",
        "# Tip: For projects with hyphens '-' be sure to escape with backticks ``\n",
        "FROM \n",
        "LIMIT 10"
      ]
    },
    {
      "cell_type": "markdown",
      "metadata": {
        "id": "0SF_qq6LHNGm"
      },
      "source": [
        "Let's increase the number of records so that we can do some neat graphs.  There is no guarantee about the order in which records are returned, and so no guarantee about which records get returned if we simply increase the LIMIT. To properly sample the dataset, let's use the HASH of the pickup time and return 1 in 100,000 records -- because there are 1 billion records in the data, we should get back approximately 10,000 records if we do this.\n",
        "\n",
        "We will also store the BigQuery result in a Pandas dataframe named \"trips\""
      ]
    },
    {
      "cell_type": "code",
      "execution_count": null,
      "metadata": {
        "id": "lSu0bTePHNGm"
      },
      "outputs": [],
      "source": [
        "%%bigquery trips\n",
        "SELECT\n",
        "    FORMAT_TIMESTAMP(\n",
        "        \"%Y-%m-%d %H:%M:%S %Z\", pickup_datetime) AS pickup_datetime,\n",
        "    pickup_longitude, pickup_latitude, \n",
        "    dropoff_longitude, dropoff_latitude,\n",
        "    passenger_count,\n",
        "    trip_distance,\n",
        "    tolls_amount,\n",
        "    fare_amount,\n",
        "    total_amount\n",
        "FROM\n",
        "    `nyc-tlc.yellow.trips`\n",
        "WHERE\n",
        "    ABS(MOD(FARM_FINGERPRINT(CAST(pickup_datetime AS STRING)), 100000)) = 1"
      ]
    },
    {
      "cell_type": "code",
      "execution_count": null,
      "metadata": {
        "id": "eSRwftF7HNGm",
        "outputId": "0e521dcb-5b6b-4273-bd4a-2b786ecb160e"
      },
      "outputs": [
        {
          "name": "stdout",
          "output_type": "stream",
          "text": [
            "10789\n"
          ]
        }
      ],
      "source": [
        "print(len(trips))"
      ]
    },
    {
      "cell_type": "code",
      "execution_count": null,
      "metadata": {
        "id": "TAXT5M0IHNGn",
        "outputId": "40f23506-80e6-45ee-ed85-660e92f172cd"
      },
      "outputs": [
        {
          "data": {
            "text/html": [
              "<div>\n",
              "<style scoped>\n",
              "    .dataframe tbody tr th:only-of-type {\n",
              "        vertical-align: middle;\n",
              "    }\n",
              "\n",
              "    .dataframe tbody tr th {\n",
              "        vertical-align: top;\n",
              "    }\n",
              "\n",
              "    .dataframe thead th {\n",
              "        text-align: right;\n",
              "    }\n",
              "</style>\n",
              "<table border=\"1\" class=\"dataframe\">\n",
              "  <thead>\n",
              "    <tr style=\"text-align: right;\">\n",
              "      <th></th>\n",
              "      <th>pickup_datetime</th>\n",
              "      <th>pickup_longitude</th>\n",
              "      <th>pickup_latitude</th>\n",
              "      <th>dropoff_longitude</th>\n",
              "      <th>dropoff_latitude</th>\n",
              "      <th>passenger_count</th>\n",
              "      <th>trip_distance</th>\n",
              "      <th>tolls_amount</th>\n",
              "      <th>fare_amount</th>\n",
              "      <th>total_amount</th>\n",
              "    </tr>\n",
              "  </thead>\n",
              "  <tbody>\n",
              "    <tr>\n",
              "      <th>0</th>\n",
              "      <td>2014-05-17 15:15:00 UTC</td>\n",
              "      <td>-73.999550</td>\n",
              "      <td>40.760600</td>\n",
              "      <td>-73.999650</td>\n",
              "      <td>40.725220</td>\n",
              "      <td>1</td>\n",
              "      <td>5.57</td>\n",
              "      <td>0.00</td>\n",
              "      <td>31.0</td>\n",
              "      <td>33.50</td>\n",
              "    </tr>\n",
              "    <tr>\n",
              "      <th>1</th>\n",
              "      <td>2012-02-21 11:53:00 UTC</td>\n",
              "      <td>-73.953860</td>\n",
              "      <td>40.787055</td>\n",
              "      <td>-73.972072</td>\n",
              "      <td>40.676780</td>\n",
              "      <td>6</td>\n",
              "      <td>11.90</td>\n",
              "      <td>0.00</td>\n",
              "      <td>31.7</td>\n",
              "      <td>38.54</td>\n",
              "    </tr>\n",
              "    <tr>\n",
              "      <th>2</th>\n",
              "      <td>2009-09-25 03:47:00 UTC</td>\n",
              "      <td>-74.001323</td>\n",
              "      <td>40.727572</td>\n",
              "      <td>-73.987230</td>\n",
              "      <td>40.661257</td>\n",
              "      <td>1</td>\n",
              "      <td>5.76</td>\n",
              "      <td>0.00</td>\n",
              "      <td>16.9</td>\n",
              "      <td>17.40</td>\n",
              "    </tr>\n",
              "    <tr>\n",
              "      <th>3</th>\n",
              "      <td>2014-10-06 15:16:00 UTC</td>\n",
              "      <td>-73.980130</td>\n",
              "      <td>40.760910</td>\n",
              "      <td>-73.861730</td>\n",
              "      <td>40.768330</td>\n",
              "      <td>2</td>\n",
              "      <td>11.47</td>\n",
              "      <td>5.33</td>\n",
              "      <td>36.5</td>\n",
              "      <td>47.33</td>\n",
              "    </tr>\n",
              "    <tr>\n",
              "      <th>4</th>\n",
              "      <td>2014-12-08 21:50:00 UTC</td>\n",
              "      <td>-73.870867</td>\n",
              "      <td>40.773782</td>\n",
              "      <td>-74.003297</td>\n",
              "      <td>40.708215</td>\n",
              "      <td>2</td>\n",
              "      <td>11.81</td>\n",
              "      <td>0.00</td>\n",
              "      <td>33.5</td>\n",
              "      <td>37.50</td>\n",
              "    </tr>\n",
              "    <tr>\n",
              "      <th>5</th>\n",
              "      <td>2010-05-26 16:15:03 UTC</td>\n",
              "      <td>-74.002922</td>\n",
              "      <td>40.714474</td>\n",
              "      <td>-73.978505</td>\n",
              "      <td>40.758280</td>\n",
              "      <td>1</td>\n",
              "      <td>6.10</td>\n",
              "      <td>0.00</td>\n",
              "      <td>20.9</td>\n",
              "      <td>25.76</td>\n",
              "    </tr>\n",
              "    <tr>\n",
              "      <th>6</th>\n",
              "      <td>2009-03-28 20:30:35 UTC</td>\n",
              "      <td>-73.973926</td>\n",
              "      <td>40.757725</td>\n",
              "      <td>-73.981695</td>\n",
              "      <td>40.761591</td>\n",
              "      <td>1</td>\n",
              "      <td>0.50</td>\n",
              "      <td>0.00</td>\n",
              "      <td>4.6</td>\n",
              "      <td>4.60</td>\n",
              "    </tr>\n",
              "    <tr>\n",
              "      <th>7</th>\n",
              "      <td>2009-08-23 23:59:22 UTC</td>\n",
              "      <td>-73.783319</td>\n",
              "      <td>40.648480</td>\n",
              "      <td>-73.893649</td>\n",
              "      <td>40.646566</td>\n",
              "      <td>1</td>\n",
              "      <td>8.30</td>\n",
              "      <td>0.00</td>\n",
              "      <td>18.9</td>\n",
              "      <td>18.90</td>\n",
              "    </tr>\n",
              "    <tr>\n",
              "      <th>8</th>\n",
              "      <td>2012-05-05 22:46:05 UTC</td>\n",
              "      <td>-74.009790</td>\n",
              "      <td>40.712483</td>\n",
              "      <td>-73.959293</td>\n",
              "      <td>40.768908</td>\n",
              "      <td>1</td>\n",
              "      <td>5.20</td>\n",
              "      <td>0.00</td>\n",
              "      <td>16.9</td>\n",
              "      <td>19.90</td>\n",
              "    </tr>\n",
              "    <tr>\n",
              "      <th>9</th>\n",
              "      <td>2010-12-21 13:08:00 UTC</td>\n",
              "      <td>-73.982422</td>\n",
              "      <td>40.739847</td>\n",
              "      <td>-73.981658</td>\n",
              "      <td>40.768732</td>\n",
              "      <td>2</td>\n",
              "      <td>2.64</td>\n",
              "      <td>0.00</td>\n",
              "      <td>14.9</td>\n",
              "      <td>15.40</td>\n",
              "    </tr>\n",
              "  </tbody>\n",
              "</table>\n",
              "</div>"
            ],
            "text/plain": [
              "           pickup_datetime  pickup_longitude  pickup_latitude  \\\n",
              "0  2014-05-17 15:15:00 UTC        -73.999550        40.760600   \n",
              "1  2012-02-21 11:53:00 UTC        -73.953860        40.787055   \n",
              "2  2009-09-25 03:47:00 UTC        -74.001323        40.727572   \n",
              "3  2014-10-06 15:16:00 UTC        -73.980130        40.760910   \n",
              "4  2014-12-08 21:50:00 UTC        -73.870867        40.773782   \n",
              "5  2010-05-26 16:15:03 UTC        -74.002922        40.714474   \n",
              "6  2009-03-28 20:30:35 UTC        -73.973926        40.757725   \n",
              "7  2009-08-23 23:59:22 UTC        -73.783319        40.648480   \n",
              "8  2012-05-05 22:46:05 UTC        -74.009790        40.712483   \n",
              "9  2010-12-21 13:08:00 UTC        -73.982422        40.739847   \n",
              "\n",
              "   dropoff_longitude  dropoff_latitude  passenger_count  trip_distance  \\\n",
              "0         -73.999650         40.725220                1           5.57   \n",
              "1         -73.972072         40.676780                6          11.90   \n",
              "2         -73.987230         40.661257                1           5.76   \n",
              "3         -73.861730         40.768330                2          11.47   \n",
              "4         -74.003297         40.708215                2          11.81   \n",
              "5         -73.978505         40.758280                1           6.10   \n",
              "6         -73.981695         40.761591                1           0.50   \n",
              "7         -73.893649         40.646566                1           8.30   \n",
              "8         -73.959293         40.768908                1           5.20   \n",
              "9         -73.981658         40.768732                2           2.64   \n",
              "\n",
              "   tolls_amount  fare_amount  total_amount  \n",
              "0          0.00         31.0         33.50  \n",
              "1          0.00         31.7         38.54  \n",
              "2          0.00         16.9         17.40  \n",
              "3          5.33         36.5         47.33  \n",
              "4          0.00         33.5         37.50  \n",
              "5          0.00         20.9         25.76  \n",
              "6          0.00          4.6          4.60  \n",
              "7          0.00         18.9         18.90  \n",
              "8          0.00         16.9         19.90  \n",
              "9          0.00         14.9         15.40  "
            ]
          },
          "execution_count": 5,
          "metadata": {},
          "output_type": "execute_result"
        }
      ],
      "source": [
        "# We can slice Pandas dataframes as if they were arrays\n",
        "trips[:10]"
      ]
    },
    {
      "cell_type": "markdown",
      "metadata": {
        "id": "BHk5FBlMHNGn"
      },
      "source": [
        "<h3> Exploring data </h3>\n",
        "\n",
        "Let's explore this dataset and clean it up as necessary. We'll use the Python Seaborn package to visualize graphs and Pandas to do the slicing and filtering."
      ]
    },
    {
      "cell_type": "code",
      "execution_count": null,
      "metadata": {
        "id": "qPqhov5LHNGn",
        "outputId": "cd0231be-bd9b-405c-ec47-b44ef5c8c584"
      },
      "outputs": [
        {
          "data": {
            "image/png": "[encoded data removed]",
            "text/plain": [
              "<Figure size 720x576 with 1 Axes>"
            ]
          },
          "metadata": {
            "needs_background": "light"
          },
          "output_type": "display_data"
        }
      ],
      "source": [
        "# TODO 4: Visualize your dataset using the Seaborn library.\n",
        "# Plot the distance of the trip as X and the fare amount as Y.\n",
        "ax = sns.regplot(x=\"\", y=\"\", fit_reg=False, ci=None, truncate=True, data=trips)\n",
        "ax.figure.set_size_inches(10, 8)"
      ]
    },
    {
      "cell_type": "markdown",
      "metadata": {
        "id": "DoWJwQCyHNGn"
      },
      "source": [
        "Hmm ... do you see something wrong with the data that needs addressing?\n",
        "\n",
        "It appears that we have a lot of invalid data that is being coded as zero distance and some fare amounts that are definitely illegitimate. Let's remove them from our analysis. We can do this by modifying the BigQuery query to keep only trips longer than zero miles and fare amounts that are at least the minimum cab fare ($2.50).\n",
        "\n",
        "Note the extra WHERE clauses."
      ]
    },
    {
      "cell_type": "code",
      "execution_count": null,
      "metadata": {
        "id": "2wsgatYjHNGn"
      },
      "outputs": [],
      "source": [
        "%%bigquery trips\n",
        "SELECT\n",
        "    FORMAT_TIMESTAMP(\n",
        "        \"%Y-%m-%d %H:%M:%S %Z\", pickup_datetime) AS pickup_datetime,\n",
        "    pickup_longitude, pickup_latitude, \n",
        "    dropoff_longitude, dropoff_latitude,\n",
        "    passenger_count,\n",
        "    trip_distance,\n",
        "    tolls_amount,\n",
        "    fare_amount,\n",
        "    total_amount\n",
        "FROM\n",
        "    `nyc-tlc.yellow.trips`\n",
        "WHERE\n",
        "    ABS(MOD(FARM_FINGERPRINT(CAST(pickup_datetime AS STRING)), 100000)) = 1\n",
        "    # TODO 4a: Filter the data to only include non-zero distance trips and fares above $2.50\n",
        "    AND "
      ]
    },
    {
      "cell_type": "code",
      "execution_count": null,
      "metadata": {
        "id": "O9I7Q5yXHNGo",
        "outputId": "cd7e8027-aefd-46f9-c502-0afb321ebdd8"
      },
      "outputs": [
        {
          "name": "stdout",
          "output_type": "stream",
          "text": [
            "10716\n"
          ]
        }
      ],
      "source": [
        "print(len(trips))"
      ]
    },
    {
      "cell_type": "code",
      "execution_count": null,
      "metadata": {
        "id": "er1IOBmtHNGo",
        "outputId": "23f852c0-e7ef-41f9-9bc1-a31989a1f65d"
      },
      "outputs": [
        {
          "data": {
            "image/png": "[encoded data removed]",
            "text/plain": [
              "<Figure size 720x576 with 1 Axes>"
            ]
          },
          "metadata": {
            "needs_background": "light"
          },
          "output_type": "display_data"
        }
      ],
      "source": [
        "ax = sns.regplot(\n",
        "    x=\"trip_distance\", y=\"fare_amount\",\n",
        "    fit_reg=False, ci=None, truncate=True, data=trips)\n",
        "ax.figure.set_size_inches(10, 8)"
      ]
    },
    {
      "cell_type": "markdown",
      "metadata": {
        "id": "He9Mcr-kHNGo"
      },
      "source": [
        "What's up with the streaks around 45 dollars and 50 dollars?  Those are fixed-amount rides from JFK and La Guardia airports into anywhere in Manhattan, i.e. to be expected. Let's list the data to make sure the values look reasonable.\n",
        "\n",
        "Let's also examine whether the toll amount is captured in the total amount."
      ]
    },
    {
      "cell_type": "code",
      "execution_count": null,
      "metadata": {
        "id": "ZuLvrNF3HNGo",
        "outputId": "60cdcf74-e0ca-4044-90c7-f45829ac063e"
      },
      "outputs": [
        {
          "data": {
            "text/html": [
              "<div>\n",
              "<style scoped>\n",
              "    .dataframe tbody tr th:only-of-type {\n",
              "        vertical-align: middle;\n",
              "    }\n",
              "\n",
              "    .dataframe tbody tr th {\n",
              "        vertical-align: top;\n",
              "    }\n",
              "\n",
              "    .dataframe thead th {\n",
              "        text-align: right;\n",
              "    }\n",
              "</style>\n",
              "<table border=\"1\" class=\"dataframe\">\n",
              "  <thead>\n",
              "    <tr style=\"text-align: right;\">\n",
              "      <th></th>\n",
              "      <th>pickup_datetime</th>\n",
              "      <th>pickup_longitude</th>\n",
              "      <th>pickup_latitude</th>\n",
              "      <th>dropoff_longitude</th>\n",
              "      <th>dropoff_latitude</th>\n",
              "      <th>passenger_count</th>\n",
              "      <th>trip_distance</th>\n",
              "      <th>tolls_amount</th>\n",
              "      <th>fare_amount</th>\n",
              "      <th>total_amount</th>\n",
              "    </tr>\n",
              "  </thead>\n",
              "  <tbody>\n",
              "    <tr>\n",
              "      <th>40</th>\n",
              "      <td>2012-02-27 09:19:10 UTC</td>\n",
              "      <td>-73.874431</td>\n",
              "      <td>40.774011</td>\n",
              "      <td>-73.983967</td>\n",
              "      <td>40.744082</td>\n",
              "      <td>1</td>\n",
              "      <td>11.6</td>\n",
              "      <td>4.8</td>\n",
              "      <td>27.7</td>\n",
              "      <td>38.0</td>\n",
              "    </tr>\n",
              "  </tbody>\n",
              "</table>\n",
              "</div>"
            ],
            "text/plain": [
              "            pickup_datetime  pickup_longitude  pickup_latitude  \\\n",
              "40  2012-02-27 09:19:10 UTC        -73.874431        40.774011   \n",
              "\n",
              "    dropoff_longitude  dropoff_latitude  passenger_count  trip_distance  \\\n",
              "40         -73.983967         40.744082                1           11.6   \n",
              "\n",
              "    tolls_amount  fare_amount  total_amount  \n",
              "40           4.8         27.7          38.0  "
            ]
          },
          "execution_count": 10,
          "metadata": {},
          "output_type": "execute_result"
        }
      ],
      "source": [
        "tollrides = trips[trips[\"tolls_amount\"] > 0]\n",
        "tollrides[tollrides[\"pickup_datetime\"] == \"2012-02-27 09:19:10 UTC\"]"
      ]
    },
    {
      "cell_type": "code",
      "execution_count": null,
      "metadata": {
        "id": "tZwJDEyXHNGo",
        "outputId": "ac0b552e-c669-47f3-acd5-7616068780a6"
      },
      "outputs": [
        {
          "data": {
            "text/html": [
              "<div>\n",
              "<style scoped>\n",
              "    .dataframe tbody tr th:only-of-type {\n",
              "        vertical-align: middle;\n",
              "    }\n",
              "\n",
              "    .dataframe tbody tr th {\n",
              "        vertical-align: top;\n",
              "    }\n",
              "\n",
              "    .dataframe thead th {\n",
              "        text-align: right;\n",
              "    }\n",
              "</style>\n",
              "<table border=\"1\" class=\"dataframe\">\n",
              "  <thead>\n",
              "    <tr style=\"text-align: right;\">\n",
              "      <th></th>\n",
              "      <th>pickup_datetime</th>\n",
              "      <th>pickup_longitude</th>\n",
              "      <th>pickup_latitude</th>\n",
              "      <th>dropoff_longitude</th>\n",
              "      <th>dropoff_latitude</th>\n",
              "      <th>passenger_count</th>\n",
              "      <th>trip_distance</th>\n",
              "      <th>tolls_amount</th>\n",
              "      <th>fare_amount</th>\n",
              "      <th>total_amount</th>\n",
              "    </tr>\n",
              "  </thead>\n",
              "  <tbody>\n",
              "    <tr>\n",
              "      <th>53</th>\n",
              "      <td>2012-02-27 09:19:10 UTC</td>\n",
              "      <td>-73.972311</td>\n",
              "      <td>40.753067</td>\n",
              "      <td>-73.957389</td>\n",
              "      <td>40.817824</td>\n",
              "      <td>1</td>\n",
              "      <td>5.6</td>\n",
              "      <td>0.0</td>\n",
              "      <td>16.9</td>\n",
              "      <td>22.62</td>\n",
              "    </tr>\n",
              "    <tr>\n",
              "      <th>7811</th>\n",
              "      <td>2012-02-27 09:19:10 UTC</td>\n",
              "      <td>-73.987582</td>\n",
              "      <td>40.725468</td>\n",
              "      <td>-74.016628</td>\n",
              "      <td>40.715534</td>\n",
              "      <td>1</td>\n",
              "      <td>2.8</td>\n",
              "      <td>0.0</td>\n",
              "      <td>12.1</td>\n",
              "      <td>15.75</td>\n",
              "    </tr>\n",
              "    <tr>\n",
              "      <th>10537</th>\n",
              "      <td>2012-02-27 09:19:10 UTC</td>\n",
              "      <td>-74.015483</td>\n",
              "      <td>40.715279</td>\n",
              "      <td>-73.998045</td>\n",
              "      <td>40.756273</td>\n",
              "      <td>1</td>\n",
              "      <td>3.3</td>\n",
              "      <td>0.0</td>\n",
              "      <td>10.9</td>\n",
              "      <td>13.40</td>\n",
              "    </tr>\n",
              "  </tbody>\n",
              "</table>\n",
              "</div>"
            ],
            "text/plain": [
              "               pickup_datetime  pickup_longitude  pickup_latitude  \\\n",
              "53     2012-02-27 09:19:10 UTC        -73.972311        40.753067   \n",
              "7811   2012-02-27 09:19:10 UTC        -73.987582        40.725468   \n",
              "10537  2012-02-27 09:19:10 UTC        -74.015483        40.715279   \n",
              "\n",
              "       dropoff_longitude  dropoff_latitude  passenger_count  trip_distance  \\\n",
              "53            -73.957389         40.817824                1            5.6   \n",
              "7811          -74.016628         40.715534                1            2.8   \n",
              "10537         -73.998045         40.756273                1            3.3   \n",
              "\n",
              "       tolls_amount  fare_amount  total_amount  \n",
              "53              0.0         16.9         22.62  \n",
              "7811            0.0         12.1         15.75  \n",
              "10537           0.0         10.9         13.40  "
            ]
          },
          "execution_count": 11,
          "metadata": {},
          "output_type": "execute_result"
        }
      ],
      "source": [
        "notollrides = trips[trips[\"tolls_amount\"] == 0]\n",
        "notollrides[notollrides[\"pickup_datetime\"] == \"2012-02-27 09:19:10 UTC\"]"
      ]
    },
    {
      "cell_type": "markdown",
      "metadata": {
        "id": "UWolFXsJHNGp"
      },
      "source": [
        "Looking at a few samples above, it should be clear that the total amount reflects fare amount, toll and tip somewhat arbitrarily -- this is because when customers pay cash, the tip is not known.  So, we'll use the sum of fare_amount + tolls_amount as what needs to be predicted.  Tips are discretionary and do not have to be included in our fare estimation tool.\n",
        "\n",
        "Let's also look at the distribution of values within the columns."
      ]
    },
    {
      "cell_type": "code",
      "execution_count": null,
      "metadata": {
        "id": "K0pGV4fIHNGp",
        "outputId": "687c2f68-1f4d-4e47-9dc4-3fcd3b1fbdb0"
      },
      "outputs": [
        {
          "data": {
            "text/html": [
              "<div>\n",
              "<style scoped>\n",
              "    .dataframe tbody tr th:only-of-type {\n",
              "        vertical-align: middle;\n",
              "    }\n",
              "\n",
              "    .dataframe tbody tr th {\n",
              "        vertical-align: top;\n",
              "    }\n",
              "\n",
              "    .dataframe thead th {\n",
              "        text-align: right;\n",
              "    }\n",
              "</style>\n",
              "<table border=\"1\" class=\"dataframe\">\n",
              "  <thead>\n",
              "    <tr style=\"text-align: right;\">\n",
              "      <th></th>\n",
              "      <th>pickup_longitude</th>\n",
              "      <th>pickup_latitude</th>\n",
              "      <th>dropoff_longitude</th>\n",
              "      <th>dropoff_latitude</th>\n",
              "      <th>passenger_count</th>\n",
              "      <th>trip_distance</th>\n",
              "      <th>tolls_amount</th>\n",
              "      <th>fare_amount</th>\n",
              "      <th>total_amount</th>\n",
              "    </tr>\n",
              "  </thead>\n",
              "  <tbody>\n",
              "    <tr>\n",
              "      <th>count</th>\n",
              "      <td>10716.000000</td>\n",
              "      <td>10716.000000</td>\n",
              "      <td>10716.000000</td>\n",
              "      <td>10716.000000</td>\n",
              "      <td>10716.000000</td>\n",
              "      <td>10716.000000</td>\n",
              "      <td>10716.000000</td>\n",
              "      <td>10716.000000</td>\n",
              "      <td>10716.000000</td>\n",
              "    </tr>\n",
              "    <tr>\n",
              "      <th>mean</th>\n",
              "      <td>-72.602192</td>\n",
              "      <td>40.002372</td>\n",
              "      <td>-72.594838</td>\n",
              "      <td>40.002052</td>\n",
              "      <td>1.650056</td>\n",
              "      <td>2.856395</td>\n",
              "      <td>0.226428</td>\n",
              "      <td>11.109446</td>\n",
              "      <td>13.217078</td>\n",
              "    </tr>\n",
              "    <tr>\n",
              "      <th>std</th>\n",
              "      <td>9.982373</td>\n",
              "      <td>5.474670</td>\n",
              "      <td>10.004324</td>\n",
              "      <td>5.474648</td>\n",
              "      <td>1.283577</td>\n",
              "      <td>3.322024</td>\n",
              "      <td>1.135934</td>\n",
              "      <td>9.137710</td>\n",
              "      <td>10.953156</td>\n",
              "    </tr>\n",
              "    <tr>\n",
              "      <th>min</th>\n",
              "      <td>-74.258183</td>\n",
              "      <td>0.000000</td>\n",
              "      <td>-74.260472</td>\n",
              "      <td>0.000000</td>\n",
              "      <td>0.000000</td>\n",
              "      <td>0.010000</td>\n",
              "      <td>0.000000</td>\n",
              "      <td>2.500000</td>\n",
              "      <td>2.500000</td>\n",
              "    </tr>\n",
              "    <tr>\n",
              "      <th>25%</th>\n",
              "      <td>-73.992153</td>\n",
              "      <td>40.735936</td>\n",
              "      <td>-73.991566</td>\n",
              "      <td>40.734310</td>\n",
              "      <td>1.000000</td>\n",
              "      <td>1.040000</td>\n",
              "      <td>0.000000</td>\n",
              "      <td>6.000000</td>\n",
              "      <td>7.300000</td>\n",
              "    </tr>\n",
              "    <tr>\n",
              "      <th>50%</th>\n",
              "      <td>-73.981851</td>\n",
              "      <td>40.753264</td>\n",
              "      <td>-73.980373</td>\n",
              "      <td>40.752956</td>\n",
              "      <td>1.000000</td>\n",
              "      <td>1.770000</td>\n",
              "      <td>0.000000</td>\n",
              "      <td>8.500000</td>\n",
              "      <td>10.000000</td>\n",
              "    </tr>\n",
              "    <tr>\n",
              "      <th>75%</th>\n",
              "      <td>-73.967400</td>\n",
              "      <td>40.767340</td>\n",
              "      <td>-73.964142</td>\n",
              "      <td>40.767510</td>\n",
              "      <td>2.000000</td>\n",
              "      <td>3.160000</td>\n",
              "      <td>0.000000</td>\n",
              "      <td>12.500000</td>\n",
              "      <td>14.600000</td>\n",
              "    </tr>\n",
              "    <tr>\n",
              "      <th>max</th>\n",
              "      <td>0.000000</td>\n",
              "      <td>41.366138</td>\n",
              "      <td>0.000000</td>\n",
              "      <td>41.366138</td>\n",
              "      <td>6.000000</td>\n",
              "      <td>42.800000</td>\n",
              "      <td>16.000000</td>\n",
              "      <td>179.000000</td>\n",
              "      <td>179.000000</td>\n",
              "    </tr>\n",
              "  </tbody>\n",
              "</table>\n",
              "</div>"
            ],
            "text/plain": [
              "       pickup_longitude  pickup_latitude  dropoff_longitude  dropoff_latitude  \\\n",
              "count      10716.000000     10716.000000       10716.000000      10716.000000   \n",
              "mean         -72.602192        40.002372         -72.594838         40.002052   \n",
              "std            9.982373         5.474670          10.004324          5.474648   \n",
              "min          -74.258183         0.000000         -74.260472          0.000000   \n",
              "25%          -73.992153        40.735936         -73.991566         40.734310   \n",
              "50%          -73.981851        40.753264         -73.980373         40.752956   \n",
              "75%          -73.967400        40.767340         -73.964142         40.767510   \n",
              "max            0.000000        41.366138           0.000000         41.366138   \n",
              "\n",
              "       passenger_count  trip_distance  tolls_amount   fare_amount  \\\n",
              "count     10716.000000   10716.000000  10716.000000  10716.000000   \n",
              "mean          1.650056       2.856395      0.226428     11.109446   \n",
              "std           1.283577       3.322024      1.135934      9.137710   \n",
              "min           0.000000       0.010000      0.000000      2.500000   \n",
              "25%           1.000000       1.040000      0.000000      6.000000   \n",
              "50%           1.000000       1.770000      0.000000      8.500000   \n",
              "75%           2.000000       3.160000      0.000000     12.500000   \n",
              "max           6.000000      42.800000     16.000000    179.000000   \n",
              "\n",
              "       total_amount  \n",
              "count  10716.000000  \n",
              "mean      13.217078  \n",
              "std       10.953156  \n",
              "min        2.500000  \n",
              "25%        7.300000  \n",
              "50%       10.000000  \n",
              "75%       14.600000  \n",
              "max      179.000000  "
            ]
          },
          "execution_count": 12,
          "metadata": {},
          "output_type": "execute_result"
        }
      ],
      "source": [
        "trips.describe()"
      ]
    },
    {
      "cell_type": "markdown",
      "metadata": {
        "id": "9XNDDCAsHNGp"
      },
      "source": [
        "Copyright 2021 Google Inc.  Licensed under the Apache License, Version 2.0 (the \"License\"); you may not use this file except in compliance with the License. You may obtain a copy of the License at\n",
        "http://www.apache.org/licenses/LICENSE-2.0\n",
        "Unless required by applicable law or agreed to in writing, software distributed under the License is distributed on an \"AS IS\" BASIS, WITHOUT WARRANTIES OR CONDITIONS OF ANY KIND, either express or implied. See the License for the specific language governing permissions and limitations under the License."
      ]
    }
  ],
  "metadata": {
    "colab": {
      "provenance": [],
      "include_colab_link": true
    },
    "kernelspec": {
      "display_name": "Python 3",
      "language": "python",
      "name": "python3"
    },
    "language_info": {
      "codemirror_mode": {
        "name": "ipython",
        "version": 3
      },
      "file_extension": ".py",
      "mimetype": "text/x-python",
      "name": "python",
      "nbconvert_exporter": "python",
      "pygments_lexer": "ipython3",
      "version": "3.5.3"
    }
  },
  "nbformat": 4,
  "nbformat_minor": 0
}