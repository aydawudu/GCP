{
  "nbformat": 4,
  "nbformat_minor": 0,
  "metadata": {
    "colab": {
      "provenance": [],
      "collapsed_sections": [],
      "authorship_tag": "ABX9TyNsde7PtctdnPxkHb7covtU",
      "include_colab_link": true
    },
    "kernelspec": {
      "name": "python3",
      "display_name": "Python 3"
    },
    "language_info": {
      "name": "python"
    }
  },
  "cells": [
    {
      "cell_type": "markdown",
      "metadata": {
        "id": "view-in-github",
        "colab_type": "text"
      },
      "source": [
        "<a href=\"https://colab.research.google.com/github/aydawudu/GCP/blob/main/Keras_Sequential_API_Vertex_AI.ipynb\" target=\"_parent\"><img src=\"https://colab.research.google.com/assets/colab-badge.svg\" alt=\"Open In Colab\"/></a>"
      ]
    },
    {
      "cell_type": "code",
      "execution_count": 1,
      "metadata": {
        "colab": {
          "base_uri": "https://localhost:8080/"
        },
        "id": "F84dCK5eVz91",
        "outputId": "732a563e-60f8-49ff-c46c-af49db3cecb3"
      },
      "outputs": [
        {
          "output_type": "stream",
          "name": "stdout",
          "text": [
            "2.8.2\n"
          ]
        }
      ],
      "source": [
        "import datetime\n",
        "import os\n",
        "import shutil\n",
        "\n",
        "import numpy as np\n",
        "import pandas as pd\n",
        "import tensorflow as tf\n",
        "#from google.cloud import aiplatform\n",
        "import  matplotlib.pyplot as plt\n",
        "from tensorflow import keras \n",
        "from tensorflow.keras.callbacks import TensorBoard\n",
        "from tensorflow.keras.layers import Dense, DenseFeatures\n",
        "from tensorflow.keras.models import Sequential\n",
        "\n",
        "print (tf.__version__)\n",
        "%matplotlib inline"
      ]
    },
    {
      "cell_type": "markdown",
      "source": [
        "#Using tf.data to read csv files"
      ],
      "metadata": {
        "id": "4T52fv6qaOAJ"
      }
    },
    {
      "cell_type": "code",
      "source": [
        "CSV_COLUMNS = [\n",
        "    \"fare_amount\",\n",
        "    \"pickup_datetime\",\n",
        "    \"pickup_longitude\",\n",
        "    \"pickup_latitude\",\n",
        "    \"dropoff_longitude\",\n",
        "    \"dropoff_latitude\",\n",
        "    \"passenger_count\",\n",
        "    \"key\",\n",
        "]\n",
        "LABEL_COLUMN = \"fare_amount\"\n",
        "DEFAULTS = [[0.0], [\"na\"], [0.0], [0.0], [0.0], [0.0], [0.0], [\"na\"]]\n",
        "UNWANTED_COLS = [\"pickup_datetime\", \"key\"]\n",
        "\n",
        "\n",
        "def features_and_labels(row_data):\n",
        "    label = row_data.pop(LABEL_COLUMN)\n",
        "    features = row_data\n",
        "\n",
        "    for unwanted_col in UNWANTED_COLS:\n",
        "        features.pop(unwanted_col)\n",
        "\n",
        "    return features, label\n",
        "\n",
        "\n",
        "def create_dataset(pattern, batch_size=1, mode=\"eval\"):\n",
        "    dataset = tf.data.experimental.make_csv_dataset(\n",
        "        pattern, batch_size, CSV_COLUMNS, DEFAULTS\n",
        "    )\n",
        "\n",
        "    dataset = dataset.map(features_and_labels)\n",
        "\n",
        "    if mode == \"train\":\n",
        "        dataset = dataset.shuffle(buffer_size=1000).repeat()\n",
        "\n",
        "    # take advantage of multi-threading; 1=AUTOTUNE\n",
        "    dataset = dataset.prefetch(1)\n",
        "    return dataset"
      ],
      "metadata": {
        "id": "q3kl2_QDbzhU"
      },
      "execution_count": 2,
      "outputs": []
    },
    {
      "cell_type": "markdown",
      "source": [
        "#Building a DNN model"
      ],
      "metadata": {
        "id": "naRc26lShyx7"
      }
    },
    {
      "cell_type": "code",
      "source": [
        "INPUT_COLS = [\n",
        "    \"pickup_longitude\",\n",
        "    \"pickup_latitude\",\n",
        "    \"dropoff_longitude\",\n",
        "    \"dropoff_latitude\",\n",
        "    \"passenger_count\",\n",
        "]\n",
        "\n",
        "#Input layers of feature columns\n",
        "feature_coloumns={\n",
        "    colname: tf.feature_column.numeric_column(colname) for colname in INPUT_COLS\n",
        "}"
      ],
      "metadata": {
        "id": "AU8EkUaxizpT"
      },
      "execution_count": 3,
      "outputs": []
    },
    {
      "cell_type": "code",
      "source": [
        "#Building a keras DNN model using Sequential\n",
        "model=Sequential(\n",
        "    [\n",
        "        DenseFeatures(feature_columns=feature_coloumns.values()),\n",
        "        Dense(units=32, activation=\"relu\", name=\"h1\"),\n",
        "        Dense(units=8, activation=\"relu\", name=\"h2\"),\n",
        "        Dense(units=1, activation=\"linear\", name=\"output\")\n",
        "\n",
        "    ]\n",
        ")"
      ],
      "metadata": {
        "id": "d5jY4fGAj-bZ"
      },
      "execution_count": 4,
      "outputs": []
    },
    {
      "cell_type": "code",
      "source": [
        "#Creating a custom evaluation metric\n",
        "def rmse(y_true, y_pred):\n",
        "  return tf.sqrt(tf.reduce_mean(tf.square(y_pred-y_true)))\n",
        "\n",
        "#Compile the model\n",
        "model.compile(optimizer=\"adam\", loss=\"mse\", metrics=[rmse, \"mse\"])"
      ],
      "metadata": {
        "id": "bd8FqMVUlCnM"
      },
      "execution_count": 5,
      "outputs": []
    },
    {
      "cell_type": "code",
      "source": [
        "TRAIN_BATCH_SIZE = 1000\n",
        "NUM_TRAIN_EXAMPLES = 10000 * 5  # training dataset will repeat, wrap around\n",
        "NUM_EVALS = 50  # how many times to evaluate\n",
        "NUM_EVAL_EXAMPLES = 10000  # enough to get a reasonable sample\n",
        "\n",
        "trainds = create_dataset(\n",
        "    pattern=\"/content/taxi-train.csv*\", batch_size=TRAIN_BATCH_SIZE, mode=\"train\"\n",
        ")\n",
        "\n",
        "evalds = create_dataset(\n",
        "    pattern=\"/content/taxi-valid.csv*\", batch_size=1000, mode=\"eval\"\n",
        ").take(NUM_EVAL_EXAMPLES // 1000)"
      ],
      "metadata": {
        "id": "GPIA9OlMl_JG"
      },
      "execution_count": 6,
      "outputs": []
    },
    {
      "cell_type": "code",
      "source": [
        "# Fit\n",
        "%time\n",
        "steps_per_epoch = NUM_TRAIN_EXAMPLES // (TRAIN_BATCH_SIZE * NUM_EVALS)\n",
        "\n",
        "LOGDIR = \"./taxi_trained\"\n",
        "history = model.fit(\n",
        "    x=trainds,\n",
        "    steps_per_epoch=steps_per_epoch,\n",
        "    epochs=NUM_EVALS,\n",
        "    validation_data=evalds,\n",
        "    callbacks=[TensorBoard(LOGDIR)],\n",
        ")"
      ],
      "metadata": {
        "colab": {
          "base_uri": "https://localhost:8080/"
        },
        "id": "8g5FLMTbnDx1",
        "outputId": "0285fe7a-3a36-4f0d-a94c-8f64e726ae88"
      },
      "execution_count": 7,
      "outputs": [
        {
          "output_type": "stream",
          "name": "stdout",
          "text": [
            "CPU times: user 4 µs, sys: 0 ns, total: 4 µs\n",
            "Wall time: 8.34 µs\n",
            "Epoch 1/50\n"
          ]
        },
        {
          "output_type": "stream",
          "name": "stderr",
          "text": [
            "WARNING:tensorflow:Layers in a Sequential model should only have a single input tensor. Received: inputs=OrderedDict([('pickup_longitude', <tf.Tensor 'IteratorGetNext:4' shape=(1000,) dtype=float32>), ('pickup_latitude', <tf.Tensor 'IteratorGetNext:3' shape=(1000,) dtype=float32>), ('dropoff_longitude', <tf.Tensor 'IteratorGetNext:1' shape=(1000,) dtype=float32>), ('dropoff_latitude', <tf.Tensor 'IteratorGetNext:0' shape=(1000,) dtype=float32>), ('passenger_count', <tf.Tensor 'IteratorGetNext:2' shape=(1000,) dtype=float32>)]). Consider rewriting this model with the Functional API.\n",
            "WARNING:tensorflow:Layers in a Sequential model should only have a single input tensor. Received: inputs=OrderedDict([('pickup_longitude', <tf.Tensor 'IteratorGetNext:4' shape=(1000,) dtype=float32>), ('pickup_latitude', <tf.Tensor 'IteratorGetNext:3' shape=(1000,) dtype=float32>), ('dropoff_longitude', <tf.Tensor 'IteratorGetNext:1' shape=(1000,) dtype=float32>), ('dropoff_latitude', <tf.Tensor 'IteratorGetNext:0' shape=(1000,) dtype=float32>), ('passenger_count', <tf.Tensor 'IteratorGetNext:2' shape=(1000,) dtype=float32>)]). Consider rewriting this model with the Functional API.\n"
          ]
        },
        {
          "output_type": "stream",
          "name": "stdout",
          "text": [
            "\r1/1 [==============================] - ETA: 0s - loss: 73.8041 - rmse: 8.5909 - mse: 73.8041"
          ]
        },
        {
          "output_type": "stream",
          "name": "stderr",
          "text": [
            "WARNING:tensorflow:Layers in a Sequential model should only have a single input tensor. Received: inputs=OrderedDict([('pickup_longitude', <tf.Tensor 'IteratorGetNext:4' shape=(1000,) dtype=float32>), ('pickup_latitude', <tf.Tensor 'IteratorGetNext:3' shape=(1000,) dtype=float32>), ('dropoff_longitude', <tf.Tensor 'IteratorGetNext:1' shape=(1000,) dtype=float32>), ('dropoff_latitude', <tf.Tensor 'IteratorGetNext:0' shape=(1000,) dtype=float32>), ('passenger_count', <tf.Tensor 'IteratorGetNext:2' shape=(1000,) dtype=float32>)]). Consider rewriting this model with the Functional API.\n"
          ]
        },
        {
          "output_type": "stream",
          "name": "stdout",
          "text": [
            "\b\b\b\b\b\b\b\b\b\b\b\b\b\b\b\b\b\b\b\b\b\b\b\b\b\b\b\b\b\b\b\b\b\b\b\b\b\b\b\b\b\b\b\b\b\b\b\b\b\b\b\b\b\b\b\b\b\b\b\b\b\b\b\b\b\b\b\b\b\b\b\b\b\b\b\b\b\b\b\b\b\b\b\b\b\b\b\b\b\b\b\b\r1/1 [==============================] - 18s 18s/step - loss: 73.8041 - rmse: 8.5909 - mse: 73.8041 - val_loss: 101.7674 - val_rmse: 10.0794 - val_mse: 101.7674\n",
            "Epoch 2/50\n",
            "1/1 [==============================] - 0s 424ms/step - loss: 76.7719 - rmse: 8.7620 - mse: 76.7719 - val_loss: 99.6080 - val_rmse: 9.9796 - val_mse: 99.6080\n",
            "Epoch 3/50\n",
            "1/1 [==============================] - 0s 387ms/step - loss: 86.9883 - rmse: 9.3268 - mse: 86.9883 - val_loss: 99.2315 - val_rmse: 9.9524 - val_mse: 99.2315\n",
            "Epoch 4/50\n",
            "1/1 [==============================] - 0s 375ms/step - loss: 77.6093 - rmse: 8.8096 - mse: 77.6093 - val_loss: 98.3305 - val_rmse: 9.9120 - val_mse: 98.3305\n",
            "Epoch 5/50\n",
            "1/1 [==============================] - 0s 381ms/step - loss: 76.8973 - rmse: 8.7691 - mse: 76.8973 - val_loss: 98.7301 - val_rmse: 9.9300 - val_mse: 98.7301\n",
            "Epoch 6/50\n",
            "1/1 [==============================] - 0s 373ms/step - loss: 78.9292 - rmse: 8.8842 - mse: 78.9292 - val_loss: 98.5749 - val_rmse: 9.9169 - val_mse: 98.5749\n",
            "Epoch 7/50\n",
            "1/1 [==============================] - 0s 386ms/step - loss: 75.5257 - rmse: 8.6906 - mse: 75.5257 - val_loss: 100.3343 - val_rmse: 10.0137 - val_mse: 100.3343\n",
            "Epoch 8/50\n",
            "1/1 [==============================] - 0s 375ms/step - loss: 100.2762 - rmse: 10.0138 - mse: 100.2762 - val_loss: 100.1492 - val_rmse: 10.0052 - val_mse: 100.1492\n",
            "Epoch 9/50\n",
            "1/1 [==============================] - 0s 389ms/step - loss: 69.8259 - rmse: 8.3562 - mse: 69.8259 - val_loss: 101.0152 - val_rmse: 10.0457 - val_mse: 101.0152\n",
            "Epoch 10/50\n",
            "1/1 [==============================] - 0s 297ms/step - loss: 90.3518 - rmse: 9.5054 - mse: 90.3518 - val_loss: 100.4454 - val_rmse: 10.0120 - val_mse: 100.4454\n",
            "Epoch 11/50\n",
            "1/1 [==============================] - 0s 367ms/step - loss: 93.8630 - rmse: 9.6883 - mse: 93.8630 - val_loss: 99.5779 - val_rmse: 9.9625 - val_mse: 99.5779\n",
            "Epoch 12/50\n",
            "1/1 [==============================] - 0s 394ms/step - loss: 85.1994 - rmse: 9.2304 - mse: 85.1994 - val_loss: 100.1726 - val_rmse: 10.0047 - val_mse: 100.1726\n",
            "Epoch 13/50\n",
            "1/1 [==============================] - 0s 398ms/step - loss: 89.8333 - rmse: 9.4780 - mse: 89.8333 - val_loss: 100.5516 - val_rmse: 10.0240 - val_mse: 100.5516\n",
            "Epoch 14/50\n",
            "1/1 [==============================] - 0s 373ms/step - loss: 89.6366 - rmse: 9.4677 - mse: 89.6366 - val_loss: 100.2047 - val_rmse: 10.0087 - val_mse: 100.2047\n",
            "Epoch 15/50\n",
            "1/1 [==============================] - 0s 387ms/step - loss: 100.1708 - rmse: 10.0085 - mse: 100.1708 - val_loss: 99.5484 - val_rmse: 9.9681 - val_mse: 99.5484\n",
            "Epoch 16/50\n",
            "1/1 [==============================] - 0s 381ms/step - loss: 85.3887 - rmse: 9.2406 - mse: 85.3887 - val_loss: 99.7578 - val_rmse: 9.9806 - val_mse: 99.7578\n",
            "Epoch 17/50\n",
            "1/1 [==============================] - 0s 372ms/step - loss: 73.1890 - rmse: 8.5551 - mse: 73.1890 - val_loss: 99.3853 - val_rmse: 9.9603 - val_mse: 99.3853\n",
            "Epoch 18/50\n",
            "1/1 [==============================] - 0s 379ms/step - loss: 103.0295 - rmse: 10.1503 - mse: 103.0295 - val_loss: 99.7991 - val_rmse: 9.9883 - val_mse: 99.7991\n",
            "Epoch 19/50\n",
            "1/1 [==============================] - 0s 392ms/step - loss: 74.0062 - rmse: 8.6027 - mse: 74.0062 - val_loss: 99.3223 - val_rmse: 9.9645 - val_mse: 99.3223\n",
            "Epoch 20/50\n",
            "1/1 [==============================] - 0s 378ms/step - loss: 66.5040 - rmse: 8.1550 - mse: 66.5040 - val_loss: 99.8139 - val_rmse: 9.9866 - val_mse: 99.8139\n",
            "Epoch 21/50\n",
            "1/1 [==============================] - 0s 385ms/step - loss: 96.1772 - rmse: 9.8070 - mse: 96.1772 - val_loss: 99.5330 - val_rmse: 9.9736 - val_mse: 99.5330\n",
            "Epoch 22/50\n",
            "1/1 [==============================] - 0s 376ms/step - loss: 91.5734 - rmse: 9.5694 - mse: 91.5734 - val_loss: 100.0248 - val_rmse: 9.9999 - val_mse: 100.0248\n",
            "Epoch 23/50\n",
            "1/1 [==============================] - 0s 406ms/step - loss: 81.9801 - rmse: 9.0543 - mse: 81.9801 - val_loss: 100.4268 - val_rmse: 10.0172 - val_mse: 100.4268\n",
            "Epoch 24/50\n",
            "1/1 [==============================] - 0s 378ms/step - loss: 87.8040 - rmse: 9.3704 - mse: 87.8040 - val_loss: 101.3496 - val_rmse: 10.0638 - val_mse: 101.3496\n",
            "Epoch 25/50\n",
            "1/1 [==============================] - 0s 327ms/step - loss: 95.5352 - rmse: 9.7742 - mse: 95.5352 - val_loss: 101.3659 - val_rmse: 10.0640 - val_mse: 101.3659\n",
            "Epoch 26/50\n",
            "1/1 [==============================] - 0s 388ms/step - loss: 81.8373 - rmse: 9.0464 - mse: 81.8373 - val_loss: 100.1352 - val_rmse: 10.0023 - val_mse: 100.1352\n",
            "Epoch 27/50\n",
            "1/1 [==============================] - 0s 374ms/step - loss: 79.4591 - rmse: 8.9140 - mse: 79.4591 - val_loss: 99.9375 - val_rmse: 9.9936 - val_mse: 99.9375\n",
            "Epoch 28/50\n",
            "1/1 [==============================] - 0s 378ms/step - loss: 96.7766 - rmse: 9.8375 - mse: 96.7766 - val_loss: 99.8719 - val_rmse: 9.9818 - val_mse: 99.8719\n",
            "Epoch 29/50\n",
            "1/1 [==============================] - 0s 372ms/step - loss: 85.0184 - rmse: 9.2205 - mse: 85.0184 - val_loss: 99.8618 - val_rmse: 9.9919 - val_mse: 99.8618\n",
            "Epoch 30/50\n",
            "1/1 [==============================] - 0s 392ms/step - loss: 87.6790 - rmse: 9.3637 - mse: 87.6790 - val_loss: 100.3164 - val_rmse: 10.0101 - val_mse: 100.3164\n",
            "Epoch 31/50\n",
            "1/1 [==============================] - 0s 378ms/step - loss: 80.9936 - rmse: 8.9996 - mse: 80.9936 - val_loss: 99.3217 - val_rmse: 9.9598 - val_mse: 99.3217\n",
            "Epoch 32/50\n",
            "1/1 [==============================] - 0s 383ms/step - loss: 95.2635 - rmse: 9.7603 - mse: 95.2635 - val_loss: 99.4366 - val_rmse: 9.9701 - val_mse: 99.4366\n",
            "Epoch 33/50\n",
            "1/1 [==============================] - 0s 371ms/step - loss: 82.0844 - rmse: 9.0600 - mse: 82.0844 - val_loss: 99.0596 - val_rmse: 9.9459 - val_mse: 99.0596\n",
            "Epoch 34/50\n",
            "1/1 [==============================] - 0s 391ms/step - loss: 86.5572 - rmse: 9.3036 - mse: 86.5572 - val_loss: 99.8027 - val_rmse: 9.9824 - val_mse: 99.8027\n",
            "Epoch 35/50\n",
            "1/1 [==============================] - 0s 373ms/step - loss: 88.4691 - rmse: 9.4058 - mse: 88.4691 - val_loss: 99.4227 - val_rmse: 9.9597 - val_mse: 99.4227\n",
            "Epoch 36/50\n",
            "1/1 [==============================] - 0s 377ms/step - loss: 93.1902 - rmse: 9.6535 - mse: 93.1902 - val_loss: 98.8888 - val_rmse: 9.9417 - val_mse: 98.8888\n",
            "Epoch 37/50\n",
            "1/1 [==============================] - 0s 388ms/step - loss: 114.1558 - rmse: 10.6844 - mse: 114.1558 - val_loss: 99.5885 - val_rmse: 9.9735 - val_mse: 99.5885\n",
            "Epoch 38/50\n",
            "1/1 [==============================] - 0s 307ms/step - loss: 94.6020 - rmse: 9.7264 - mse: 94.6020 - val_loss: 99.0491 - val_rmse: 9.9496 - val_mse: 99.0491\n",
            "Epoch 39/50\n",
            "1/1 [==============================] - 0s 372ms/step - loss: 91.9937 - rmse: 9.5913 - mse: 91.9937 - val_loss: 99.1288 - val_rmse: 9.9500 - val_mse: 99.1288\n",
            "Epoch 40/50\n",
            "1/1 [==============================] - 0s 377ms/step - loss: 84.2500 - rmse: 9.1788 - mse: 84.2500 - val_loss: 100.2684 - val_rmse: 10.0102 - val_mse: 100.2684\n",
            "Epoch 41/50\n",
            "1/1 [==============================] - 0s 389ms/step - loss: 88.7111 - rmse: 9.4187 - mse: 88.7111 - val_loss: 100.2263 - val_rmse: 10.0074 - val_mse: 100.2263\n",
            "Epoch 42/50\n",
            "1/1 [==============================] - 0s 370ms/step - loss: 85.9364 - rmse: 9.2702 - mse: 85.9364 - val_loss: 100.3087 - val_rmse: 10.0093 - val_mse: 100.3087\n",
            "Epoch 43/50\n",
            "1/1 [==============================] - 0s 371ms/step - loss: 84.5503 - rmse: 9.1951 - mse: 84.5503 - val_loss: 99.8650 - val_rmse: 9.9879 - val_mse: 99.8650\n",
            "Epoch 44/50\n",
            "1/1 [==============================] - 0s 374ms/step - loss: 91.0515 - rmse: 9.5421 - mse: 91.0515 - val_loss: 100.6212 - val_rmse: 10.0299 - val_mse: 100.6212\n",
            "Epoch 45/50\n",
            "1/1 [==============================] - 0s 323ms/step - loss: 100.2080 - rmse: 10.0104 - mse: 100.2080 - val_loss: 99.4238 - val_rmse: 9.9653 - val_mse: 99.4238\n",
            "Epoch 46/50\n",
            "1/1 [==============================] - 0s 371ms/step - loss: 70.4014 - rmse: 8.3906 - mse: 70.4014 - val_loss: 99.3925 - val_rmse: 9.9664 - val_mse: 99.3925\n",
            "Epoch 47/50\n",
            "1/1 [==============================] - 0s 373ms/step - loss: 80.8385 - rmse: 8.9910 - mse: 80.8385 - val_loss: 99.6415 - val_rmse: 9.9768 - val_mse: 99.6415\n",
            "Epoch 48/50\n",
            "1/1 [==============================] - 0s 387ms/step - loss: 93.5914 - rmse: 9.6743 - mse: 93.5914 - val_loss: 100.2337 - val_rmse: 10.0020 - val_mse: 100.2337\n",
            "Epoch 49/50\n",
            "1/1 [==============================] - 0s 381ms/step - loss: 103.9810 - rmse: 10.1971 - mse: 103.9810 - val_loss: 98.7911 - val_rmse: 9.9361 - val_mse: 98.7911\n",
            "Epoch 50/50\n",
            "1/1 [==============================] - 0s 381ms/step - loss: 80.5109 - rmse: 8.9728 - mse: 80.5109 - val_loss: 99.5822 - val_rmse: 9.9769 - val_mse: 99.5822\n"
          ]
        }
      ]
    },
    {
      "cell_type": "markdown",
      "source": [
        "#Model Evaluation"
      ],
      "metadata": {
        "id": "IxM_dbZFoBh-"
      }
    },
    {
      "cell_type": "code",
      "source": [
        "model.summary()"
      ],
      "metadata": {
        "colab": {
          "base_uri": "https://localhost:8080/"
        },
        "id": "iMmPfJCjoFBN",
        "outputId": "748c570e-e67b-4c66-e8d1-9c93ffc397f5"
      },
      "execution_count": 9,
      "outputs": [
        {
          "output_type": "stream",
          "name": "stdout",
          "text": [
            "Model: \"sequential\"\n",
            "_________________________________________________________________\n",
            " Layer (type)                Output Shape              Param #   \n",
            "=================================================================\n",
            " dense_features (DenseFeatur  multiple                 0         \n",
            " es)                                                             \n",
            "                                                                 \n",
            " h1 (Dense)                  multiple                  192       \n",
            "                                                                 \n",
            " h2 (Dense)                  multiple                  264       \n",
            "                                                                 \n",
            " output (Dense)              multiple                  9         \n",
            "                                                                 \n",
            "=================================================================\n",
            "Total params: 465\n",
            "Trainable params: 465\n",
            "Non-trainable params: 0\n",
            "_________________________________________________________________\n"
          ]
        }
      ]
    },
    {
      "cell_type": "code",
      "source": [
        "RMSE_COLS=[\"rmse\", \"val_rmse\"]\n",
        "pd.DataFrame(history.history)[RMSE_COLS].plot()"
      ],
      "metadata": {
        "colab": {
          "base_uri": "https://localhost:8080/",
          "height": 282
        },
        "id": "tBV2-reKSmyP",
        "outputId": "ab94a2d0-6155-4956-e899-d255e3c1e820"
      },
      "execution_count": 10,
      "outputs": [
        {
          "output_type": "execute_result",
          "data": {
            "text/plain": [
              "<matplotlib.axes._subplots.AxesSubplot at 0x7f1be6f47590>"
            ]
          },
          "metadata": {},
          "execution_count": 10
        },
        {
          "output_type": "display_data",
          "data": {
            "text/plain": [
              "<Figure size 432x288 with 1 Axes>"
            ],
            "image/png": "[encoded data removed]"
          },
          "metadata": {
            "needs_background": "light"
          }
        }
      ]
    },
    {
      "cell_type": "code",
      "source": [
        "LOSS_COLS = [\"loss\", \"val_loss\"]\n",
        "\n",
        "pd.DataFrame(history.history)[LOSS_COLS].plot()"
      ],
      "metadata": {
        "colab": {
          "base_uri": "https://localhost:8080/",
          "height": 282
        },
        "id": "c1hw-gH5TsXu",
        "outputId": "adbcfafc-aa26-4175-a992-1e731d605cd3"
      },
      "execution_count": 11,
      "outputs": [
        {
          "output_type": "execute_result",
          "data": {
            "text/plain": [
              "<matplotlib.axes._subplots.AxesSubplot at 0x7f1be67874d0>"
            ]
          },
          "metadata": {},
          "execution_count": 11
        },
        {
          "output_type": "display_data",
          "data": {
            "text/plain": [
              "<Figure size 432x288 with 1 Axes>"
            ],
            "image/png": "[encoded data removed]"
          },
          "metadata": {
            "needs_background": "light"
          }
        }
      ]
    },
    {
      "cell_type": "markdown",
      "source": [
        "#Prediction"
      ],
      "metadata": {
        "id": "SKnyBQteTxyB"
      }
    },
    {
      "cell_type": "code",
      "source": [
        "model.predict(\n",
        "    x={\n",
        "        \"pickup_longitude\": tf.convert_to_tensor([-73.982683]),\n",
        "        \"pickup_latitude\": tf.convert_to_tensor([40.742104]),\n",
        "        \"dropoff_longitude\": tf.convert_to_tensor([-73.983766]),\n",
        "        \"dropoff_latitude\": tf.convert_to_tensor([40.755174]),\n",
        "        \"passenger_count\": tf.convert_to_tensor([3.0]),\n",
        "    },\n",
        "    steps=1,\n",
        ")"
      ],
      "metadata": {
        "colab": {
          "base_uri": "https://localhost:8080/"
        },
        "id": "Dx5DqUnBVqcP",
        "outputId": "90ea72ca-ae68-4d95-9b03-25873c6531f9"
      },
      "execution_count": 12,
      "outputs": [
        {
          "output_type": "stream",
          "name": "stderr",
          "text": [
            "WARNING:tensorflow:Layers in a Sequential model should only have a single input tensor. Received: inputs={'pickup_longitude': <tf.Tensor 'IteratorGetNext:4' shape=(1,) dtype=float32>, 'pickup_latitude': <tf.Tensor 'IteratorGetNext:3' shape=(1,) dtype=float32>, 'dropoff_longitude': <tf.Tensor 'IteratorGetNext:1' shape=(1,) dtype=float32>, 'dropoff_latitude': <tf.Tensor 'IteratorGetNext:0' shape=(1,) dtype=float32>, 'passenger_count': <tf.Tensor 'IteratorGetNext:2' shape=(1,) dtype=float32>}. Consider rewriting this model with the Functional API.\n"
          ]
        },
        {
          "output_type": "execute_result",
          "data": {
            "text/plain": [
              "array([[11.553261]], dtype=float32)"
            ]
          },
          "metadata": {},
          "execution_count": 12
        }
      ]
    },
    {
      "cell_type": "code",
      "source": [
        "OUTPUT_DIR=\"./export/savedmodel\"\n",
        "shutil.rmtree(OUTPUT_DIR, ignore_errors=True)\n",
        "TIMESTAMP=datetime.datetime.now().strftime(\"%Y%m%d%H%M%S\")\n",
        "\n",
        "EXPORT_PATH=os.path.join(OUTPUT_DIR, TIMESTAMP)\n",
        "\n",
        "tf.saved_model.save(model, EXPORT_PATH)"
      ],
      "metadata": {
        "colab": {
          "base_uri": "https://localhost:8080/"
        },
        "id": "Ot1cZb96WAr1",
        "outputId": "88d9dcd4-0bb8-4766-e0a1-5794b5a79ab5"
      },
      "execution_count": 13,
      "outputs": [
        {
          "output_type": "stream",
          "name": "stderr",
          "text": [
            "WARNING:tensorflow:Layers in a Sequential model should only have a single input tensor. Received: inputs=OrderedDict([('pickup_longitude', <tf.Tensor 'pickup_longitude:0' shape=(None,) dtype=float32>), ('pickup_latitude', <tf.Tensor 'pickup_latitude:0' shape=(None,) dtype=float32>), ('dropoff_longitude', <tf.Tensor 'dropoff_longitude:0' shape=(None,) dtype=float32>), ('dropoff_latitude', <tf.Tensor 'dropoff_latitude:0' shape=(None,) dtype=float32>), ('passenger_count', <tf.Tensor 'passenger_count:0' shape=(None,) dtype=float32>)]). Consider rewriting this model with the Functional API.\n",
            "WARNING:tensorflow:Layers in a Sequential model should only have a single input tensor. Received: inputs=OrderedDict([('pickup_longitude', <tf.Tensor 'inputs_4:0' shape=(None,) dtype=float32>), ('pickup_latitude', <tf.Tensor 'inputs_3:0' shape=(None,) dtype=float32>), ('dropoff_longitude', <tf.Tensor 'inputs_1:0' shape=(None,) dtype=float32>), ('dropoff_latitude', <tf.Tensor 'inputs:0' shape=(None,) dtype=float32>), ('passenger_count', <tf.Tensor 'inputs_2:0' shape=(None,) dtype=float32>)]). Consider rewriting this model with the Functional API.\n",
            "WARNING:tensorflow:Layers in a Sequential model should only have a single input tensor. Received: inputs=OrderedDict([('pickup_longitude', <tf.Tensor 'inputs_4:0' shape=(None,) dtype=float32>), ('pickup_latitude', <tf.Tensor 'inputs_3:0' shape=(None,) dtype=float32>), ('dropoff_longitude', <tf.Tensor 'inputs_1:0' shape=(None,) dtype=float32>), ('dropoff_latitude', <tf.Tensor 'inputs:0' shape=(None,) dtype=float32>), ('passenger_count', <tf.Tensor 'inputs_2:0' shape=(None,) dtype=float32>)]). Consider rewriting this model with the Functional API.\n",
            "WARNING:tensorflow:Layers in a Sequential model should only have a single input tensor. Received: inputs=OrderedDict([('pickup_longitude', <tf.Tensor 'pickup_longitude:0' shape=(None,) dtype=float32>), ('pickup_latitude', <tf.Tensor 'pickup_latitude:0' shape=(None,) dtype=float32>), ('dropoff_longitude', <tf.Tensor 'dropoff_longitude:0' shape=(None,) dtype=float32>), ('dropoff_latitude', <tf.Tensor 'dropoff_latitude:0' shape=(None,) dtype=float32>), ('passenger_count', <tf.Tensor 'passenger_count:0' shape=(None,) dtype=float32>)]). Consider rewriting this model with the Functional API.\n",
            "WARNING:tensorflow:Layers in a Sequential model should only have a single input tensor. Received: inputs=OrderedDict([('pickup_longitude', <tf.Tensor 'pickup_longitude:0' shape=(None,) dtype=float32>), ('pickup_latitude', <tf.Tensor 'pickup_latitude:0' shape=(None,) dtype=float32>), ('dropoff_longitude', <tf.Tensor 'dropoff_longitude:0' shape=(None,) dtype=float32>), ('dropoff_latitude', <tf.Tensor 'dropoff_latitude:0' shape=(None,) dtype=float32>), ('passenger_count', <tf.Tensor 'passenger_count:0' shape=(None,) dtype=float32>)]). Consider rewriting this model with the Functional API.\n",
            "WARNING:tensorflow:Layers in a Sequential model should only have a single input tensor. Received: inputs=OrderedDict([('pickup_longitude', <tf.Tensor 'inputs/pickup_longitude:0' shape=(None,) dtype=float32>), ('pickup_latitude', <tf.Tensor 'inputs/pickup_latitude:0' shape=(None,) dtype=float32>), ('dropoff_longitude', <tf.Tensor 'inputs/dropoff_longitude:0' shape=(None,) dtype=float32>), ('dropoff_latitude', <tf.Tensor 'inputs/dropoff_latitude:0' shape=(None,) dtype=float32>), ('passenger_count', <tf.Tensor 'inputs/passenger_count:0' shape=(None,) dtype=float32>)]). Consider rewriting this model with the Functional API.\n",
            "WARNING:tensorflow:Layers in a Sequential model should only have a single input tensor. Received: inputs=OrderedDict([('pickup_longitude', <tf.Tensor 'inputs/pickup_longitude:0' shape=(None,) dtype=float32>), ('pickup_latitude', <tf.Tensor 'inputs/pickup_latitude:0' shape=(None,) dtype=float32>), ('dropoff_longitude', <tf.Tensor 'inputs/dropoff_longitude:0' shape=(None,) dtype=float32>), ('dropoff_latitude', <tf.Tensor 'inputs/dropoff_latitude:0' shape=(None,) dtype=float32>), ('passenger_count', <tf.Tensor 'inputs/passenger_count:0' shape=(None,) dtype=float32>)]). Consider rewriting this model with the Functional API.\n"
          ]
        }
      ]
    },
    {
      "cell_type": "code",
      "source": [
        "!saved_model_cli show \\\n",
        "    --tag_set serve \\\n",
        "    --signature_def serving_default \\\n",
        "    --dir {EXPORT_PATH}\n",
        "\n",
        "!find {EXPORT_PATH}\n",
        "os.environ['EXPORT_PATH'] = EXPORT_PATH"
      ],
      "metadata": {
        "colab": {
          "base_uri": "https://localhost:8080/"
        },
        "id": "l-oSNqfUWll3",
        "outputId": "0be6da7e-b4fe-4cb9-cee7-659609254933"
      },
      "execution_count": 14,
      "outputs": [
        {
          "output_type": "stream",
          "name": "stdout",
          "text": [
            "The given SavedModel SignatureDef contains the following input(s):\n",
            "  inputs['dropoff_latitude'] tensor_info:\n",
            "      dtype: DT_FLOAT\n",
            "      shape: (-1)\n",
            "      name: serving_default_dropoff_latitude:0\n",
            "  inputs['dropoff_longitude'] tensor_info:\n",
            "      dtype: DT_FLOAT\n",
            "      shape: (-1)\n",
            "      name: serving_default_dropoff_longitude:0\n",
            "  inputs['passenger_count'] tensor_info:\n",
            "      dtype: DT_FLOAT\n",
            "      shape: (-1)\n",
            "      name: serving_default_passenger_count:0\n",
            "  inputs['pickup_latitude'] tensor_info:\n",
            "      dtype: DT_FLOAT\n",
            "      shape: (-1)\n",
            "      name: serving_default_pickup_latitude:0\n",
            "  inputs['pickup_longitude'] tensor_info:\n",
            "      dtype: DT_FLOAT\n",
            "      shape: (-1)\n",
            "      name: serving_default_pickup_longitude:0\n",
            "The given SavedModel SignatureDef contains the following output(s):\n",
            "  outputs['output_1'] tensor_info:\n",
            "      dtype: DT_FLOAT\n",
            "      shape: (-1, 1)\n",
            "      name: StatefulPartitionedCall:0\n",
            "Method name is: tensorflow/serving/predict\n",
            "./export/savedmodel/20220929174520\n",
            "./export/savedmodel/20220929174520/variables\n",
            "./export/savedmodel/20220929174520/variables/variables.index\n",
            "./export/savedmodel/20220929174520/variables/variables.data-00000-of-00001\n",
            "./export/savedmodel/20220929174520/assets\n",
            "./export/savedmodel/20220929174520/saved_model.pb\n"
          ]
        }
      ]
    },
    {
      "cell_type": "markdown",
      "source": [
        "#Deploying the model to Vertex AI"
      ],
      "metadata": {
        "id": "0MFYNywuW2Sv"
      }
    },
    {
      "cell_type": "code",
      "source": [
        "\n",
        "PROJECT = !gcloud config list --format 'value(core.project)' 2>/dev/null\n",
        "PROJECT = PROJECT[0]\n",
        "BUCKET = PROJECT\n",
        "REGION = \"us-central1\"\n",
        "MODEL_DISPLAYNAME = f\"taxifare-kerase-sequential{TIMESTAMP}\"\n",
        "\n",
        "print(f\"MODEL_DISPLAYNAME: {MODEL_DISPLAYNAME}\")\n",
        "\n",
        "# from https://cloud.google.com/vertex-ai/docs/predictions/pre-built-containers\n",
        "SERVING_CONTAINER_IMAGE_URI = (\n",
        "    \"us-docker.pkg.dev/vertex-ai/prediction/tf2-cpu.2-3:latest\"\n",
        ")\n",
        "\n",
        "os.environ[\"BUCKET\"] = BUCKET\n",
        "os.environ[\"REGION\"] = REGION"
      ],
      "metadata": {
        "colab": {
          "base_uri": "https://localhost:8080/"
        },
        "id": "Zpav8Q2IW-mJ",
        "outputId": "2c4f3d5a-62bb-4aed-b9fc-6e13bfd05404"
      },
      "execution_count": 15,
      "outputs": [
        {
          "output_type": "stream",
          "name": "stdout",
          "text": [
            "MODEL_DISPLAYNAME: taxifare-kerase-sequential20220929174520\n"
          ]
        }
      ]
    },
    {
      "cell_type": "code",
      "source": [
        "%%bash\n",
        "# Create GCS bucket if it doesn't exist already...\n",
        "exists=$(gsutil ls -d | grep -w gs://${BUCKET}/)\n",
        "\n",
        "if [ -n \"$exists\" ]; then\n",
        "    echo -e \"Bucket exists, let's not recreate it.\"\n",
        "else\n",
        "    echo \"Creating a new GCS bucket.\"\n",
        "    gsutil mb -l ${REGION} gs://${BUCKET}\n",
        "    echo \"Here are your current buckets:\"\n",
        "    gsutil ls\n",
        "fi"
      ],
      "metadata": {
        "colab": {
          "base_uri": "https://localhost:8080/",
          "height": 467
        },
        "id": "CxPe693EXBdX",
        "outputId": "23628970-0f04-41cc-e56f-c4ef9ca0006b"
      },
      "execution_count": 24,
      "outputs": [
        {
          "output_type": "stream",
          "name": "stdout",
          "text": [
            "Creating a new GCS bucket.\n",
            "Here are your current buckets:\n"
          ]
        },
        {
          "output_type": "stream",
          "name": "stderr",
          "text": [
            "You are attempting to perform an operation that requires a project id, with none configured. Please re-run gsutil config and make sure to follow the instructions for finding and entering your default project id.\n",
            "CommandException: \"mb\" command does not support provider-only URLs.\n",
            "You are attempting to perform an operation that requires a project id, with none configured. Please re-run gsutil config and make sure to follow the instructions for finding and entering your default project id.\n"
          ]
        },
        {
          "output_type": "error",
          "ename": "CalledProcessError",
          "evalue": "ignored",
          "traceback": [
            "\u001b[0;31m---------------------------------------------------------------------------\u001b[0m",
            "\u001b[0;31mCalledProcessError\u001b[0m                        Traceback (most recent call last)",
            "\u001b[0;32m<ipython-input-24-e8ccdfb04a82>\u001b[0m in \u001b[0;36m<module>\u001b[0;34m\u001b[0m\n\u001b[0;32m----> 1\u001b[0;31m \u001b[0mget_ipython\u001b[0m\u001b[0;34m(\u001b[0m\u001b[0;34m)\u001b[0m\u001b[0;34m.\u001b[0m\u001b[0mrun_cell_magic\u001b[0m\u001b[0;34m(\u001b[0m\u001b[0;34m'bash'\u001b[0m\u001b[0;34m,\u001b[0m \u001b[0;34m''\u001b[0m\u001b[0;34m,\u001b[0m \u001b[0;34m'# Create GCS bucket if it doesn\\'t exist already...\\nexists=$(gsutil ls -d | grep -w gs://${BUCKET}/)\\n\\nif [ -n \"$exists\" ]; then\\n    echo -e \"Bucket exists, let\\'s not recreate it.\"\\nelse\\n    echo \"Creating a new GCS bucket.\"\\n    gsutil mb -l ${REGION} gs://${BUCKET}\\n    echo \"Here are your current buckets:\"\\n    gsutil ls\\nfi\\n'\u001b[0m\u001b[0;34m)\u001b[0m\u001b[0;34m\u001b[0m\u001b[0;34m\u001b[0m\u001b[0m\n\u001b[0m",
            "\u001b[0;32m/usr/local/lib/python3.7/dist-packages/IPython/core/interactiveshell.py\u001b[0m in \u001b[0;36mrun_cell_magic\u001b[0;34m(self, magic_name, line, cell)\u001b[0m\n\u001b[1;32m   2357\u001b[0m             \u001b[0;32mwith\u001b[0m \u001b[0mself\u001b[0m\u001b[0;34m.\u001b[0m\u001b[0mbuiltin_trap\u001b[0m\u001b[0;34m:\u001b[0m\u001b[0;34m\u001b[0m\u001b[0;34m\u001b[0m\u001b[0m\n\u001b[1;32m   2358\u001b[0m                 \u001b[0margs\u001b[0m \u001b[0;34m=\u001b[0m \u001b[0;34m(\u001b[0m\u001b[0mmagic_arg_s\u001b[0m\u001b[0;34m,\u001b[0m \u001b[0mcell\u001b[0m\u001b[0;34m)\u001b[0m\u001b[0;34m\u001b[0m\u001b[0;34m\u001b[0m\u001b[0m\n\u001b[0;32m-> 2359\u001b[0;31m                 \u001b[0mresult\u001b[0m \u001b[0;34m=\u001b[0m \u001b[0mfn\u001b[0m\u001b[0;34m(\u001b[0m\u001b[0;34m*\u001b[0m\u001b[0margs\u001b[0m\u001b[0;34m,\u001b[0m \u001b[0;34m**\u001b[0m\u001b[0mkwargs\u001b[0m\u001b[0;34m)\u001b[0m\u001b[0;34m\u001b[0m\u001b[0;34m\u001b[0m\u001b[0m\n\u001b[0m\u001b[1;32m   2360\u001b[0m             \u001b[0;32mreturn\u001b[0m \u001b[0mresult\u001b[0m\u001b[0;34m\u001b[0m\u001b[0;34m\u001b[0m\u001b[0m\n\u001b[1;32m   2361\u001b[0m \u001b[0;34m\u001b[0m\u001b[0m\n",
            "\u001b[0;32m/usr/local/lib/python3.7/dist-packages/IPython/core/magics/script.py\u001b[0m in \u001b[0;36mnamed_script_magic\u001b[0;34m(line, cell)\u001b[0m\n\u001b[1;32m    140\u001b[0m             \u001b[0;32melse\u001b[0m\u001b[0;34m:\u001b[0m\u001b[0;34m\u001b[0m\u001b[0;34m\u001b[0m\u001b[0m\n\u001b[1;32m    141\u001b[0m                 \u001b[0mline\u001b[0m \u001b[0;34m=\u001b[0m \u001b[0mscript\u001b[0m\u001b[0;34m\u001b[0m\u001b[0;34m\u001b[0m\u001b[0m\n\u001b[0;32m--> 142\u001b[0;31m             \u001b[0;32mreturn\u001b[0m \u001b[0mself\u001b[0m\u001b[0;34m.\u001b[0m\u001b[0mshebang\u001b[0m\u001b[0;34m(\u001b[0m\u001b[0mline\u001b[0m\u001b[0;34m,\u001b[0m \u001b[0mcell\u001b[0m\u001b[0;34m)\u001b[0m\u001b[0;34m\u001b[0m\u001b[0;34m\u001b[0m\u001b[0m\n\u001b[0m\u001b[1;32m    143\u001b[0m \u001b[0;34m\u001b[0m\u001b[0m\n\u001b[1;32m    144\u001b[0m         \u001b[0;31m# write a basic docstring:\u001b[0m\u001b[0;34m\u001b[0m\u001b[0;34m\u001b[0m\u001b[0;34m\u001b[0m\u001b[0m\n",
            "\u001b[0;32m<decorator-gen-103>\u001b[0m in \u001b[0;36mshebang\u001b[0;34m(self, line, cell)\u001b[0m\n",
            "\u001b[0;32m/usr/local/lib/python3.7/dist-packages/IPython/core/magic.py\u001b[0m in \u001b[0;36m<lambda>\u001b[0;34m(f, *a, **k)\u001b[0m\n\u001b[1;32m    185\u001b[0m     \u001b[0;31m# but it's overkill for just that one bit of state.\u001b[0m\u001b[0;34m\u001b[0m\u001b[0;34m\u001b[0m\u001b[0;34m\u001b[0m\u001b[0m\n\u001b[1;32m    186\u001b[0m     \u001b[0;32mdef\u001b[0m \u001b[0mmagic_deco\u001b[0m\u001b[0;34m(\u001b[0m\u001b[0marg\u001b[0m\u001b[0;34m)\u001b[0m\u001b[0;34m:\u001b[0m\u001b[0;34m\u001b[0m\u001b[0;34m\u001b[0m\u001b[0m\n\u001b[0;32m--> 187\u001b[0;31m         \u001b[0mcall\u001b[0m \u001b[0;34m=\u001b[0m \u001b[0;32mlambda\u001b[0m \u001b[0mf\u001b[0m\u001b[0;34m,\u001b[0m \u001b[0;34m*\u001b[0m\u001b[0ma\u001b[0m\u001b[0;34m,\u001b[0m \u001b[0;34m**\u001b[0m\u001b[0mk\u001b[0m\u001b[0;34m:\u001b[0m \u001b[0mf\u001b[0m\u001b[0;34m(\u001b[0m\u001b[0;34m*\u001b[0m\u001b[0ma\u001b[0m\u001b[0;34m,\u001b[0m \u001b[0;34m**\u001b[0m\u001b[0mk\u001b[0m\u001b[0;34m)\u001b[0m\u001b[0;34m\u001b[0m\u001b[0;34m\u001b[0m\u001b[0m\n\u001b[0m\u001b[1;32m    188\u001b[0m \u001b[0;34m\u001b[0m\u001b[0m\n\u001b[1;32m    189\u001b[0m         \u001b[0;32mif\u001b[0m \u001b[0mcallable\u001b[0m\u001b[0;34m(\u001b[0m\u001b[0marg\u001b[0m\u001b[0;34m)\u001b[0m\u001b[0;34m:\u001b[0m\u001b[0;34m\u001b[0m\u001b[0;34m\u001b[0m\u001b[0m\n",
            "\u001b[0;32m/usr/local/lib/python3.7/dist-packages/IPython/core/magics/script.py\u001b[0m in \u001b[0;36mshebang\u001b[0;34m(self, line, cell)\u001b[0m\n\u001b[1;32m    243\u001b[0m             \u001b[0msys\u001b[0m\u001b[0;34m.\u001b[0m\u001b[0mstderr\u001b[0m\u001b[0;34m.\u001b[0m\u001b[0mflush\u001b[0m\u001b[0;34m(\u001b[0m\u001b[0;34m)\u001b[0m\u001b[0;34m\u001b[0m\u001b[0;34m\u001b[0m\u001b[0m\n\u001b[1;32m    244\u001b[0m         \u001b[0;32mif\u001b[0m \u001b[0margs\u001b[0m\u001b[0;34m.\u001b[0m\u001b[0mraise_error\u001b[0m \u001b[0;32mand\u001b[0m \u001b[0mp\u001b[0m\u001b[0;34m.\u001b[0m\u001b[0mreturncode\u001b[0m\u001b[0;34m!=\u001b[0m\u001b[0;36m0\u001b[0m\u001b[0;34m:\u001b[0m\u001b[0;34m\u001b[0m\u001b[0;34m\u001b[0m\u001b[0m\n\u001b[0;32m--> 245\u001b[0;31m             \u001b[0;32mraise\u001b[0m \u001b[0mCalledProcessError\u001b[0m\u001b[0;34m(\u001b[0m\u001b[0mp\u001b[0m\u001b[0;34m.\u001b[0m\u001b[0mreturncode\u001b[0m\u001b[0;34m,\u001b[0m \u001b[0mcell\u001b[0m\u001b[0;34m,\u001b[0m \u001b[0moutput\u001b[0m\u001b[0;34m=\u001b[0m\u001b[0mout\u001b[0m\u001b[0;34m,\u001b[0m \u001b[0mstderr\u001b[0m\u001b[0;34m=\u001b[0m\u001b[0merr\u001b[0m\u001b[0;34m)\u001b[0m\u001b[0;34m\u001b[0m\u001b[0;34m\u001b[0m\u001b[0m\n\u001b[0m\u001b[1;32m    246\u001b[0m \u001b[0;34m\u001b[0m\u001b[0m\n\u001b[1;32m    247\u001b[0m     \u001b[0;32mdef\u001b[0m \u001b[0m_run_script\u001b[0m\u001b[0;34m(\u001b[0m\u001b[0mself\u001b[0m\u001b[0;34m,\u001b[0m \u001b[0mp\u001b[0m\u001b[0;34m,\u001b[0m \u001b[0mcell\u001b[0m\u001b[0;34m,\u001b[0m \u001b[0mto_close\u001b[0m\u001b[0;34m)\u001b[0m\u001b[0;34m:\u001b[0m\u001b[0;34m\u001b[0m\u001b[0;34m\u001b[0m\u001b[0m\n",
            "\u001b[0;31mCalledProcessError\u001b[0m: Command 'b'# Create GCS bucket if it doesn\\'t exist already...\\nexists=$(gsutil ls -d | grep -w gs://${BUCKET}/)\\n\\nif [ -n \"$exists\" ]; then\\n    echo -e \"Bucket exists, let\\'s not recreate it.\"\\nelse\\n    echo \"Creating a new GCS bucket.\"\\n    gsutil mb -l ${REGION} gs://${BUCKET}\\n    echo \"Here are your current buckets:\"\\n    gsutil ls\\nfi\\n'' returned non-zero exit status 1."
          ]
        }
      ]
    },
    {
      "cell_type": "code",
      "source": [
        "#Bucket exists, let's not recreate it.\n",
        "!gsutil cp -R $EXPORT_PATH gs://$BUCKET/$MODEL_DISPLAYNAME"
      ],
      "metadata": {
        "colab": {
          "base_uri": "https://localhost:8080/"
        },
        "id": "ekqLyKpaXJOw",
        "outputId": "2f2dc45d-feca-4bbb-83b3-c2af1edf2ff7"
      },
      "execution_count": 17,
      "outputs": [
        {
          "output_type": "stream",
          "name": "stdout",
          "text": [
            "InvalidUrlError: Cloud URL scheme should be followed by colon and two slashes: \"://\". Found: \"gs:///taxifare-kerase-sequential20220929174520\".\n"
          ]
        }
      ]
    },
    {
      "cell_type": "code",
      "source": [
        "uploaded_model = aiplatform.Model.upload(\n",
        "    display_name=MODEL_DISPLAYNAME,\n",
        "    artifact_uri=f\"gs://{BUCKET}/{MODEL_DISPLAYNAME}\",\n",
        "    serving_container_image_uri=SERVING_CONTAINER_IMAGE_URI,\n",
        ")"
      ],
      "metadata": {
        "colab": {
          "base_uri": "https://localhost:8080/",
          "height": 235
        },
        "id": "e9KAs5-vXO7w",
        "outputId": "64340fe6-99a7-4299-f937-e916974deee1"
      },
      "execution_count": 18,
      "outputs": [
        {
          "output_type": "error",
          "ename": "NameError",
          "evalue": "ignored",
          "traceback": [
            "\u001b[0;31m---------------------------------------------------------------------------\u001b[0m",
            "\u001b[0;31mNameError\u001b[0m                                 Traceback (most recent call last)",
            "\u001b[0;32m<ipython-input-18-914c6e20773a>\u001b[0m in \u001b[0;36m<module>\u001b[0;34m\u001b[0m\n\u001b[0;32m----> 1\u001b[0;31m uploaded_model = aiplatform.Model.upload(\n\u001b[0m\u001b[1;32m      2\u001b[0m     \u001b[0mdisplay_name\u001b[0m\u001b[0;34m=\u001b[0m\u001b[0mMODEL_DISPLAYNAME\u001b[0m\u001b[0;34m,\u001b[0m\u001b[0;34m\u001b[0m\u001b[0;34m\u001b[0m\u001b[0m\n\u001b[1;32m      3\u001b[0m     \u001b[0martifact_uri\u001b[0m\u001b[0;34m=\u001b[0m\u001b[0;34mf\"gs://{BUCKET}/{MODEL_DISPLAYNAME}\"\u001b[0m\u001b[0;34m,\u001b[0m\u001b[0;34m\u001b[0m\u001b[0;34m\u001b[0m\u001b[0m\n\u001b[1;32m      4\u001b[0m     \u001b[0mserving_container_image_uri\u001b[0m\u001b[0;34m=\u001b[0m\u001b[0mSERVING_CONTAINER_IMAGE_URI\u001b[0m\u001b[0;34m,\u001b[0m\u001b[0;34m\u001b[0m\u001b[0;34m\u001b[0m\u001b[0m\n\u001b[1;32m      5\u001b[0m )\n",
            "\u001b[0;31mNameError\u001b[0m: name 'aiplatform' is not defined"
          ]
        }
      ]
    },
    {
      "cell_type": "code",
      "source": [
        "MACHINE_TYPE = \"n1-standard-2\"\n",
        "\n",
        "endpoint = uploaded_model.deploy(\n",
        "    machine_type=MACHINE_TYPE,\n",
        "    accelerator_type=None,\n",
        "    accelerator_count=None,\n",
        ")"
      ],
      "metadata": {
        "colab": {
          "base_uri": "https://localhost:8080/",
          "height": 235
        },
        "id": "tvdBnqdEXRwJ",
        "outputId": "449ed2e1-f5d4-43cf-efaf-e3b1804b0a7f"
      },
      "execution_count": 19,
      "outputs": [
        {
          "output_type": "error",
          "ename": "NameError",
          "evalue": "ignored",
          "traceback": [
            "\u001b[0;31m---------------------------------------------------------------------------\u001b[0m",
            "\u001b[0;31mNameError\u001b[0m                                 Traceback (most recent call last)",
            "\u001b[0;32m<ipython-input-19-c214c3fac7a1>\u001b[0m in \u001b[0;36m<module>\u001b[0;34m\u001b[0m\n\u001b[1;32m      1\u001b[0m \u001b[0mMACHINE_TYPE\u001b[0m \u001b[0;34m=\u001b[0m \u001b[0;34m\"n1-standard-2\"\u001b[0m\u001b[0;34m\u001b[0m\u001b[0;34m\u001b[0m\u001b[0m\n\u001b[1;32m      2\u001b[0m \u001b[0;34m\u001b[0m\u001b[0m\n\u001b[0;32m----> 3\u001b[0;31m endpoint = uploaded_model.deploy(\n\u001b[0m\u001b[1;32m      4\u001b[0m     \u001b[0mmachine_type\u001b[0m\u001b[0;34m=\u001b[0m\u001b[0mMACHINE_TYPE\u001b[0m\u001b[0;34m,\u001b[0m\u001b[0;34m\u001b[0m\u001b[0;34m\u001b[0m\u001b[0m\n\u001b[1;32m      5\u001b[0m     \u001b[0maccelerator_type\u001b[0m\u001b[0;34m=\u001b[0m\u001b[0;32mNone\u001b[0m\u001b[0;34m,\u001b[0m\u001b[0;34m\u001b[0m\u001b[0;34m\u001b[0m\u001b[0m\n",
            "\u001b[0;31mNameError\u001b[0m: name 'uploaded_model' is not defined"
          ]
        }
      ]
    },
    {
      "cell_type": "code",
      "source": [
        "\n",
        "instance = {\n",
        "    \"pickup_longitude\": -73.982683,\n",
        "    \"pickup_latitude\": 40.742104,\n",
        "    \"dropoff_longitude\": -73.983766,\n",
        "    \"dropoff_latitude\": 40.755174,\n",
        "    \"passenger_count\": 3.0,\n",
        "}\n",
        "endpoint.predict([instance])"
      ],
      "metadata": {
        "colab": {
          "base_uri": "https://localhost:8080/",
          "height": 200
        },
        "id": "TOtw3x8SXWow",
        "outputId": "fd67bc1f-01aa-4a88-f540-431c561bf26e"
      },
      "execution_count": 21,
      "outputs": [
        {
          "output_type": "error",
          "ename": "NameError",
          "evalue": "ignored",
          "traceback": [
            "\u001b[0;31m---------------------------------------------------------------------------\u001b[0m",
            "\u001b[0;31mNameError\u001b[0m                                 Traceback (most recent call last)",
            "\u001b[0;32m<ipython-input-21-496de7fc15a9>\u001b[0m in \u001b[0;36m<module>\u001b[0;34m\u001b[0m\n\u001b[1;32m      6\u001b[0m     \u001b[0;34m\"passenger_count\"\u001b[0m\u001b[0;34m:\u001b[0m \u001b[0;36m3.0\u001b[0m\u001b[0;34m,\u001b[0m\u001b[0;34m\u001b[0m\u001b[0;34m\u001b[0m\u001b[0m\n\u001b[1;32m      7\u001b[0m }\n\u001b[0;32m----> 8\u001b[0;31m \u001b[0mendpoint\u001b[0m\u001b[0;34m.\u001b[0m\u001b[0mpredict\u001b[0m\u001b[0;34m(\u001b[0m\u001b[0;34m[\u001b[0m\u001b[0minstance\u001b[0m\u001b[0;34m]\u001b[0m\u001b[0;34m)\u001b[0m\u001b[0;34m\u001b[0m\u001b[0;34m\u001b[0m\u001b[0m\n\u001b[0m",
            "\u001b[0;31mNameError\u001b[0m: name 'endpoint' is not defined"
          ]
        }
      ]
    },
    {
      "cell_type": "markdown",
      "source": [
        "#Cleanup"
      ],
      "metadata": {
        "id": "lHt-JBCtXaiK"
      }
    },
    {
      "cell_type": "code",
      "source": [
        "endpoint.undeploy_all()"
      ],
      "metadata": {
        "colab": {
          "base_uri": "https://localhost:8080/",
          "height": 165
        },
        "id": "G_Ec9a02XdvJ",
        "outputId": "8f15fed7-45d3-424c-a767-e2370f39ffb8"
      },
      "execution_count": 22,
      "outputs": [
        {
          "output_type": "error",
          "ename": "NameError",
          "evalue": "ignored",
          "traceback": [
            "\u001b[0;31m---------------------------------------------------------------------------\u001b[0m",
            "\u001b[0;31mNameError\u001b[0m                                 Traceback (most recent call last)",
            "\u001b[0;32m<ipython-input-22-e84fd525c2d6>\u001b[0m in \u001b[0;36m<module>\u001b[0;34m\u001b[0m\n\u001b[0;32m----> 1\u001b[0;31m \u001b[0mendpoint\u001b[0m\u001b[0;34m.\u001b[0m\u001b[0mundeploy_all\u001b[0m\u001b[0;34m(\u001b[0m\u001b[0;34m)\u001b[0m\u001b[0;34m\u001b[0m\u001b[0;34m\u001b[0m\u001b[0m\n\u001b[0m",
            "\u001b[0;31mNameError\u001b[0m: name 'endpoint' is not defined"
          ]
        }
      ]
    },
    {
      "cell_type": "code",
      "source": [
        "\n",
        "endpoint.delete()"
      ],
      "metadata": {
        "colab": {
          "base_uri": "https://localhost:8080/",
          "height": 165
        },
        "id": "WunHwKmbXfHI",
        "outputId": "583b0afd-fdba-465e-f2ff-4aa054826808"
      },
      "execution_count": 23,
      "outputs": [
        {
          "output_type": "error",
          "ename": "NameError",
          "evalue": "ignored",
          "traceback": [
            "\u001b[0;31m---------------------------------------------------------------------------\u001b[0m",
            "\u001b[0;31mNameError\u001b[0m                                 Traceback (most recent call last)",
            "\u001b[0;32m<ipython-input-23-9537da792453>\u001b[0m in \u001b[0;36m<module>\u001b[0;34m\u001b[0m\n\u001b[0;32m----> 1\u001b[0;31m \u001b[0mendpoint\u001b[0m\u001b[0;34m.\u001b[0m\u001b[0mdelete\u001b[0m\u001b[0;34m(\u001b[0m\u001b[0;34m)\u001b[0m\u001b[0;34m\u001b[0m\u001b[0;34m\u001b[0m\u001b[0m\n\u001b[0m",
            "\u001b[0;31mNameError\u001b[0m: name 'endpoint' is not defined"
          ]
        }
      ]
    },
    {
      "cell_type": "code",
      "source": [],
      "metadata": {
        "id": "fFggmzbVXhzo"
      },
      "execution_count": null,
      "outputs": []
    }
  ]
}